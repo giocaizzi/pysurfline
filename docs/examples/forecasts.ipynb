{
 "cells": [
  {
   "cell_type": "markdown",
   "metadata": {},
   "source": [
    "# Get forecast for a specific spot"
   ]
  },
  {
   "cell_type": "code",
   "execution_count": 29,
   "metadata": {},
   "outputs": [
    {
     "name": "stdout",
     "output_type": "stream",
     "text": [
      "The autoreload extension is already loaded. To reload it, use:\n",
      "  %reload_ext autoreload\n"
     ]
    }
   ],
   "source": [
    "%load_ext autoreload\n",
    "%autoreload 2\n",
    "import requests\n",
    "import matplotlib.pyplot as plt\n",
    "import matplotlib\n",
    "import matplotlib.dates as mdates\n",
    "import datetime\n",
    "import pandas as pd\n",
    "\n",
    "from pysurfline import SpotForecast,URLBuilder"
   ]
  },
  {
   "cell_type": "code",
   "execution_count": 30,
   "metadata": {},
   "outputs": [
    {
     "data": {
      "text/plain": [
       "200"
      ]
     },
     "execution_count": 30,
     "metadata": {},
     "output_type": "execute_result"
    }
   ],
   "source": [
    "u=URLBuilder(\"wave\",{\"spotId\":\"584204204e65fad6a7709b09\"})\n",
    "r = requests.get(u.url)\n",
    "r.status_code"
   ]
  },
  {
   "cell_type": "code",
   "execution_count": 31,
   "metadata": {},
   "outputs": [],
   "source": [
    "f=SpotForecast(r.json())"
   ]
  },
  {
   "cell_type": "code",
   "execution_count": 32,
   "metadata": {},
   "outputs": [
    {
     "data": {
      "text/plain": [
       "{'lon': 8.577, 'lat': 44.358}"
      ]
     },
     "execution_count": 32,
     "metadata": {},
     "output_type": "execute_result"
    }
   ],
   "source": [
    "f.location"
   ]
  },
  {
   "cell_type": "code",
   "execution_count": 33,
   "metadata": {},
   "outputs": [
    {
     "data": {
      "text/html": [
       "<div>\n",
       "<style scoped>\n",
       "    .dataframe tbody tr th:only-of-type {\n",
       "        vertical-align: middle;\n",
       "    }\n",
       "\n",
       "    .dataframe tbody tr th {\n",
       "        vertical-align: top;\n",
       "    }\n",
       "\n",
       "    .dataframe thead th {\n",
       "        text-align: right;\n",
       "    }\n",
       "</style>\n",
       "<table border=\"1\" class=\"dataframe\">\n",
       "  <thead>\n",
       "    <tr style=\"text-align: right;\">\n",
       "      <th></th>\n",
       "      <th>timestamp</th>\n",
       "      <th>utcOffset</th>\n",
       "      <th>surf_min</th>\n",
       "      <th>surf_max</th>\n",
       "      <th>surf_optimalScore</th>\n",
       "      <th>swells</th>\n",
       "    </tr>\n",
       "  </thead>\n",
       "  <tbody>\n",
       "    <tr>\n",
       "      <th>0</th>\n",
       "      <td>2022-02-13 00:00:00</td>\n",
       "      <td>1</td>\n",
       "      <td>0.0</td>\n",
       "      <td>0.16</td>\n",
       "      <td>0</td>\n",
       "      <td>[{'height': 0.89362, 'period': 4, 'direction':...</td>\n",
       "    </tr>\n",
       "    <tr>\n",
       "      <th>1</th>\n",
       "      <td>2022-02-13 01:00:00</td>\n",
       "      <td>1</td>\n",
       "      <td>0.0</td>\n",
       "      <td>0.16</td>\n",
       "      <td>0</td>\n",
       "      <td>[{'height': 0.81617, 'period': 4, 'direction':...</td>\n",
       "    </tr>\n",
       "    <tr>\n",
       "      <th>2</th>\n",
       "      <td>2022-02-13 02:00:00</td>\n",
       "      <td>1</td>\n",
       "      <td>0.0</td>\n",
       "      <td>0.16</td>\n",
       "      <td>0</td>\n",
       "      <td>[{'height': 0.76001, 'period': 4, 'direction':...</td>\n",
       "    </tr>\n",
       "    <tr>\n",
       "      <th>3</th>\n",
       "      <td>2022-02-13 03:00:00</td>\n",
       "      <td>1</td>\n",
       "      <td>0.0</td>\n",
       "      <td>0.18</td>\n",
       "      <td>0</td>\n",
       "      <td>[{'height': 0.69152, 'period': 4, 'direction':...</td>\n",
       "    </tr>\n",
       "    <tr>\n",
       "      <th>4</th>\n",
       "      <td>2022-02-13 04:00:00</td>\n",
       "      <td>1</td>\n",
       "      <td>0.0</td>\n",
       "      <td>0.20</td>\n",
       "      <td>0</td>\n",
       "      <td>[{'height': 0.62422, 'period': 4, 'direction':...</td>\n",
       "    </tr>\n",
       "  </tbody>\n",
       "</table>\n",
       "</div>"
      ],
      "text/plain": [
       "            timestamp  utcOffset  surf_min  surf_max  surf_optimalScore  \\\n",
       "0 2022-02-13 00:00:00          1       0.0      0.16                  0   \n",
       "1 2022-02-13 01:00:00          1       0.0      0.16                  0   \n",
       "2 2022-02-13 02:00:00          1       0.0      0.16                  0   \n",
       "3 2022-02-13 03:00:00          1       0.0      0.18                  0   \n",
       "4 2022-02-13 04:00:00          1       0.0      0.20                  0   \n",
       "\n",
       "                                              swells  \n",
       "0  [{'height': 0.89362, 'period': 4, 'direction':...  \n",
       "1  [{'height': 0.81617, 'period': 4, 'direction':...  \n",
       "2  [{'height': 0.76001, 'period': 4, 'direction':...  \n",
       "3  [{'height': 0.69152, 'period': 4, 'direction':...  \n",
       "4  [{'height': 0.62422, 'period': 4, 'direction':...  "
      ]
     },
     "execution_count": 33,
     "metadata": {},
     "output_type": "execute_result"
    }
   ],
   "source": [
    "waves=f.get_dataframe(\"wave\")\n",
    "waves.head()"
   ]
  },
  {
   "cell_type": "code",
   "execution_count": 34,
   "metadata": {},
   "outputs": [
    {
     "data": {
      "text/html": [
       "<div>\n",
       "<style scoped>\n",
       "    .dataframe tbody tr th:only-of-type {\n",
       "        vertical-align: middle;\n",
       "    }\n",
       "\n",
       "    .dataframe tbody tr th {\n",
       "        vertical-align: top;\n",
       "    }\n",
       "\n",
       "    .dataframe thead th {\n",
       "        text-align: right;\n",
       "    }\n",
       "</style>\n",
       "<table border=\"1\" class=\"dataframe\">\n",
       "  <thead>\n",
       "    <tr style=\"text-align: right;\">\n",
       "      <th></th>\n",
       "      <th>surf_min</th>\n",
       "      <th>surf_max</th>\n",
       "    </tr>\n",
       "    <tr>\n",
       "      <th>timestamp</th>\n",
       "      <th></th>\n",
       "      <th></th>\n",
       "    </tr>\n",
       "  </thead>\n",
       "  <tbody>\n",
       "    <tr>\n",
       "      <th>2022-02-13 00:00:00</th>\n",
       "      <td>0.0</td>\n",
       "      <td>0.160000</td>\n",
       "    </tr>\n",
       "    <tr>\n",
       "      <th>2022-02-13 03:00:00</th>\n",
       "      <td>0.0</td>\n",
       "      <td>0.193333</td>\n",
       "    </tr>\n",
       "    <tr>\n",
       "      <th>2022-02-13 06:00:00</th>\n",
       "      <td>0.0</td>\n",
       "      <td>0.190000</td>\n",
       "    </tr>\n",
       "    <tr>\n",
       "      <th>2022-02-13 09:00:00</th>\n",
       "      <td>0.0</td>\n",
       "      <td>0.166667</td>\n",
       "    </tr>\n",
       "    <tr>\n",
       "      <th>2022-02-13 12:00:00</th>\n",
       "      <td>0.0</td>\n",
       "      <td>0.143333</td>\n",
       "    </tr>\n",
       "  </tbody>\n",
       "</table>\n",
       "</div>"
      ],
      "text/plain": [
       "                     surf_min  surf_max\n",
       "timestamp                              \n",
       "2022-02-13 00:00:00       0.0  0.160000\n",
       "2022-02-13 03:00:00       0.0  0.193333\n",
       "2022-02-13 06:00:00       0.0  0.190000\n",
       "2022-02-13 09:00:00       0.0  0.166667\n",
       "2022-02-13 12:00:00       0.0  0.143333"
      ]
     },
     "execution_count": 34,
     "metadata": {},
     "output_type": "execute_result"
    }
   ],
   "source": [
    "surf=waves.copy()[[\"timestamp\",\"surf_min\",\t\"surf_max\"]]\n",
    "surf[\"timestamp\"]=pd.to_datetime(surf[\"timestamp\"])\n",
    "surf=surf.set_index(\"timestamp\")\n",
    "surf=surf.resample(\"3H\").mean()\n",
    "\n",
    "days=7\n",
    "surf=surf.loc[:surf.index[0]+datetime.timedelta(days=7)]\n",
    "surf.head()"
   ]
  },
  {
   "cell_type": "code",
   "execution_count": 35,
   "metadata": {},
   "outputs": [
    {
     "data": {
      "image/png": "[encoded data removed]",
      "text/plain": [
       "<Figure size 3000x600 with 1 Axes>"
      ]
     },
     "metadata": {
      "needs_background": "light"
     },
     "output_type": "display_data"
    }
   ],
   "source": [
    "matplotlib.rcParams.update({'font.size': 5})\n",
    "f,ax=plt.subplots(figsize=(10,2),dpi=300)\n",
    "ax.xaxis.set_major_formatter(\"%d-%b\")\n",
    "\n",
    "surf.plot.bar(y=[\"surf_max\",\"surf_min\"],color=[\"blue\",\"dodgerblue\"],ax=ax,zorder=2,width=1)\n",
    "ax.set_ylim([0,2.5])\n",
    "ax.grid(axis=\"y\",zorder=0)\n",
    "ax.figure.autofmt_xdate()\n",
    "# date_fmt = '%d-%b %H'\n",
    "# years = mdates.DayLocator()   # every year\n",
    "# # yearsFmt = mdates.DateFormatter(date_fmt)\n",
    "\n",
    "# ax.xaxis.set_major_locator(years)\n",
    "# ax.xaxis.set_major_formatter(yearsFmt)\n"
   ]
  }
 ],
 "metadata": {
  "interpreter": {
   "hash": "2d92824427b41c6028804632d5278b37df1fc0de77b5e6f8aeb0bbbd2f432773"
  },
  "kernelspec": {
   "display_name": "Python 3.7.12 ('cryptoenv')",
   "language": "python",
   "name": "python3"
  },
  "language_info": {
   "codemirror_mode": {
    "name": "ipython",
    "version": 3
   },
   "file_extension": ".py",
   "mimetype": "text/x-python",
   "name": "python",
   "nbconvert_exporter": "python",
   "pygments_lexer": "ipython3",
   "version": "3.9.10"
  }
 },
 "nbformat": 4,
 "nbformat_minor": 2
}
