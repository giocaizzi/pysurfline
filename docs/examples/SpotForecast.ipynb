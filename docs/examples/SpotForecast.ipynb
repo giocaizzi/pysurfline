{
 "cells": [
  {
   "cell_type": "markdown",
   "metadata": {},
   "source": [
    "# Get forecast for a spot\n",
    "\n",
    "`pysurfline` offers a simple interface to get the forecast for a spot. \n",
    "\n",
    "This data received from the API is unpacked into a `SpotForecast` object for convienience."
   ]
  },
  {
   "cell_type": "code",
   "execution_count": 1,
   "metadata": {},
   "outputs": [],
   "source": [
    "import pysurfline"
   ]
  },
  {
   "cell_type": "code",
   "execution_count": 2,
   "metadata": {},
   "outputs": [],
   "source": [
    "spotId = \"5842041f4e65fad6a7708cfd\" # anchor point"
   ]
  },
  {
   "cell_type": "code",
   "execution_count": 3,
   "metadata": {},
   "outputs": [
    {
     "data": {
      "text/plain": [
       "SpotForecasts(spotId='5842041f4e65fad6a7708cfd', name='Anchor Point', forecasts=[Forecast(timestamp=Time(timestamp=1694991600, dt=datetime.datetime(2023, 9, 17, 23, 0)), weather=Weather(temperature=21, condition='NIGHT_CLEAR'), wind=Wind(speed=4.5434, direction=43.02343), surf=Surf(min=1.22449, max=1.91326), swells=[Swell(height=1.85, direction=308.53, directionMin=298.195, period=12), Swell(height=0, direction=0, directionMin=0, period=0), Swell(height=0, direction=0, directionMin=0, period=0), Swell(height=0, direction=0, directionMin=0, period=0), Swell(height=0, direction=0, directionMin=0, period=0), Swell(height=0, direction=0, directionMin=0, period=0)]), Forecast(timestamp=Time(timestamp=1695002400, dt=datetime.datetime(2023, 9, 18, 2, 0)), weather=Weather(temperature=20, condition='NIGHT_CLEAR'), wind=Wind(speed=1.39542, direction=25.46184), surf=Surf(min=1.13689, max=1.77639), swells=[Swell(height=1.66, direction=312.37, directionMin=303.40500000000003, period=12), Swell(height=0.59, direction=275.06, directionMin=271.82, period=12), Swell(height=0, direction=0, directionMin=0, period=0), Swell(height=0, direction=0, directionMin=0, period=0), Swell(height=0, direction=0, directionMin=0, period=0), Swell(height=0, direction=0, directionMin=0, period=0)]), Forecast(timestamp=Time(timestamp=1695013200, dt=datetime.datetime(2023, 9, 18, 5, 0)), weather=Weather(temperature=20, condition='NIGHT_CLEAR'), wind=Wind(speed=2.03206, direction=36.48573), surf=Surf(min=1.01611, max=1.58767), swells=[Swell(height=1.55, direction=315.04, directionMin=306.59000000000003, period=12), Swell(height=0.73, direction=279.17, directionMin=275.20500000000004, period=13), Swell(height=0, direction=0, directionMin=0, period=0), Swell(height=0, direction=0, directionMin=0, period=0), Swell(height=0, direction=0, directionMin=0, period=0), Swell(height=0, direction=0, directionMin=0, period=0)]), Forecast(timestamp=Time(timestamp=1695024000, dt=datetime.datetime(2023, 9, 18, 8, 0)), weather=Weather(temperature=20, condition='CLEAR'), wind=Wind(speed=1.27305, direction=157.22527), surf=Surf(min=0.97247, max=1.51949), swells=[Swell(height=1.49, direction=315.42, directionMin=307, period=12), Swell(height=0.75, direction=279.34, directionMin=275.335, period=12), Swell(height=0, direction=0, directionMin=0, period=0), Swell(height=0, direction=0, directionMin=0, period=0), Swell(height=0, direction=0, directionMin=0, period=0), Swell(height=0, direction=0, directionMin=0, period=0)]), Forecast(timestamp=Time(timestamp=1695034800, dt=datetime.datetime(2023, 9, 18, 11, 0)), weather=Weather(temperature=21, condition='CLEAR'), wind=Wind(speed=6.50236, direction=284.92719), surf=Surf(min=0.94055, max=1.46961), swells=[Swell(height=1.41, direction=317.44, directionMin=309.205, period=12), Swell(height=0.84, direction=282.22, directionMin=277.355, period=11), Swell(height=0, direction=0, directionMin=0, period=0), Swell(height=0, direction=0, directionMin=0, period=0), Swell(height=0, direction=0, directionMin=0, period=0), Swell(height=0, direction=0, directionMin=0, period=0)]), Forecast(timestamp=Time(timestamp=1695045600, dt=datetime.datetime(2023, 9, 18, 14, 0)), weather=Weather(temperature=24, condition='CLEAR'), wind=Wind(speed=8.95964, direction=302.9133), surf=Surf(min=0.9731, max=1.52047), swells=[Swell(height=1.53, direction=316.27, directionMin=307.10499999999996, period=11), Swell(height=0.66, direction=276.98, directionMin=273.47, period=12), Swell(height=0, direction=0, directionMin=0, period=0), Swell(height=0, direction=0, directionMin=0, period=0), Swell(height=0, direction=0, directionMin=0, period=0), Swell(height=0, direction=0, directionMin=0, period=0)]), Forecast(timestamp=Time(timestamp=1695056400, dt=datetime.datetime(2023, 9, 18, 17, 0)), weather=Weather(temperature=25, condition='CLEAR'), wind=Wind(speed=8.8194, direction=314.89523), surf=Surf(min=0.71499, max=1.11717), swells=[Swell(height=1.09, direction=319.68, directionMin=313.695, period=11), Swell(height=0.76, direction=281.18, directionMin=276.57, period=12), Swell(height=1.08, direction=319.6, directionMin=307.51500000000004, period=6), Swell(height=0, direction=0, directionMin=0, period=0), Swell(height=0, direction=0, directionMin=0, period=0), Swell(height=0, direction=0, directionMin=0, period=0)]), Forecast(timestamp=Time(timestamp=1695067200, dt=datetime.datetime(2023, 9, 18, 20, 0)), weather=Weather(temperature=22, condition='NIGHT_CLEAR'), wind=Wind(speed=2.57154, direction=50.64357), surf=Surf(min=0.70494, max=1.10147), swells=[Swell(height=0.97, direction=322.02, directionMin=316.375, period=11), Swell(height=0.74, direction=282.07, directionMin=276.89, period=12), Swell(height=1.19, direction=319.41, directionMin=307.15500000000003, period=6), Swell(height=0, direction=0, directionMin=0, period=0), Swell(height=0, direction=0, directionMin=0, period=0), Swell(height=0, direction=0, directionMin=0, period=0)]), Forecast(timestamp=Time(timestamp=1695078000, dt=datetime.datetime(2023, 9, 18, 23, 0)), weather=Weather(temperature=21, condition='NIGHT_CLEAR'), wind=Wind(speed=5.10159, direction=103.22532), surf=Surf(min=0.6734, max=1.05219), swells=[Swell(height=0.87, direction=321.28, directionMin=315.43499999999995, period=11), Swell(height=0.71, direction=280.82, directionMin=275.955, period=11), Swell(height=1.22, direction=321.38, directionMin=309.505, period=6), Swell(height=0, direction=0, directionMin=0, period=0), Swell(height=0, direction=0, directionMin=0, period=0), Swell(height=0, direction=0, directionMin=0, period=0)]), Forecast(timestamp=Time(timestamp=1695088800, dt=datetime.datetime(2023, 9, 19, 2, 0)), weather=Weather(temperature=20, condition='NIGHT_CLEAR'), wind=Wind(speed=8.02513, direction=99.10002), surf=Surf(min=0.65452, max=1.02268), swells=[Swell(height=0.81, direction=321.76, directionMin=315.805, period=11), Swell(height=0.69, direction=280.27, directionMin=275.54999999999995, period=11), Swell(height=1.14, direction=321.65, directionMin=309.85999999999996, period=7), Swell(height=0, direction=0, directionMin=0, period=0), Swell(height=0, direction=0, directionMin=0, period=0), Swell(height=0, direction=0, directionMin=0, period=0)]), Forecast(timestamp=Time(timestamp=1695099600, dt=datetime.datetime(2023, 9, 19, 5, 0)), weather=Weather(temperature=20, condition='NIGHT_CLEAR'), wind=Wind(speed=5.99351, direction=100.31896), surf=Surf(min=0.75975, max=1.18711), swells=[Swell(height=1.28, direction=322.02, directionMin=311.805, period=10), Swell(height=0.69, direction=281.14, directionMin=276.01, period=11), Swell(height=0, direction=0, directionMin=0, period=0), Swell(height=0, direction=0, directionMin=0, period=0), Swell(height=0, direction=0, directionMin=0, period=0), Swell(height=0, direction=0, directionMin=0, period=0)]), Forecast(timestamp=Time(timestamp=1695110400, dt=datetime.datetime(2023, 9, 19, 8, 0)), weather=Weather(temperature=20, condition='CLEAR'), wind=Wind(speed=3.06288, direction=97.46128), surf=Surf(min=0.71021, max=1.1097), swells=[Swell(height=1.17, direction=321.79, directionMin=311.65500000000003, period=10), Swell(height=0.66, direction=280.49, directionMin=275.515, period=11), Swell(height=0, direction=0, directionMin=0, period=0), Swell(height=0, direction=0, directionMin=0, period=0), Swell(height=0, direction=0, directionMin=0, period=0), Swell(height=0, direction=0, directionMin=0, period=0)]), Forecast(timestamp=Time(timestamp=1695121200, dt=datetime.datetime(2023, 9, 19, 11, 0)), weather=Weather(temperature=21, condition='CLEAR'), wind=Wind(speed=2.37117, direction=242.15773), surf=Surf(min=0.6853, max=1.07078), swells=[Swell(height=1.12, direction=322.01, directionMin=312.115, period=10), Swell(height=0.57, direction=281.81, directionMin=276.965, period=11), Swell(height=0, direction=0, directionMin=0, period=0), Swell(height=0.31, direction=274.49, directionMin=270.27500000000003, period=14), Swell(height=0, direction=0, directionMin=0, period=0), Swell(height=0, direction=0, directionMin=0, period=0)]), Forecast(timestamp=Time(timestamp=1695132000, dt=datetime.datetime(2023, 9, 19, 14, 0)), weather=Weather(temperature=22, condition='CLEAR'), wind=Wind(speed=7.60502, direction=289.17934), surf=Surf(min=0.66047, max=1.03198), swells=[Swell(height=1.07, direction=322.41, directionMin=312.67, period=10), Swell(height=0.55, direction=281.31, directionMin=276.53000000000003, period=11), Swell(height=0, direction=0, directionMin=0, period=0), Swell(height=0.31, direction=274.29, directionMin=270.22, period=14), Swell(height=0, direction=0, directionMin=0, period=0), Swell(height=0, direction=0, directionMin=0, period=0)]), Forecast(timestamp=Time(timestamp=1695142800, dt=datetime.datetime(2023, 9, 19, 17, 0)), weather=Weather(temperature=24, condition='CLEAR'), wind=Wind(speed=11.09335, direction=319.1692), surf=Surf(min=0.58025, max=0.90663), swells=[Swell(height=0.75, direction=325.23, directionMin=318.8, period=10), Swell(height=0.61, direction=279.4, directionMin=274.56, period=11), Swell(height=0.81, direction=322.98, directionMin=311.11, period=6), Swell(height=0, direction=0, directionMin=0, period=0), Swell(height=0, direction=0, directionMin=0, period=0), Swell(height=0.08, direction=286.38, directionMin=280.435, period=21)]), Forecast(timestamp=Time(timestamp=1695153600, dt=datetime.datetime(2023, 9, 19, 20, 0)), weather=Weather(temperature=23, condition='NIGHT_CLEAR'), wind=Wind(speed=6.48053, direction=9.82554), surf=Surf(min=0.55436, max=0.86618), swells=[Swell(height=0.64, direction=327.33, directionMin=321.59999999999997, period=10), Swell(height=0.58, direction=279.51, directionMin=274.4, period=11), Swell(height=1.06, direction=323.91, directionMin=312.21000000000004, period=6), Swell(height=0, direction=0, directionMin=0, period=0), Swell(height=0, direction=0, directionMin=0, period=0), Swell(height=0.11, direction=287.96, directionMin=281.765, period=19)]), Forecast(timestamp=Time(timestamp=1695164400, dt=datetime.datetime(2023, 9, 19, 23, 0)), weather=Weather(temperature=20, condition='NIGHT_CLEAR'), wind=Wind(speed=5.53036, direction=127.11616), surf=Surf(min=0.45885, max=0.71696), swells=[Swell(height=0.59, direction=328.36, directionMin=322.52000000000004, period=10), Swell(height=0.38, direction=284.32, directionMin=279.55, period=10), Swell(height=1.04, direction=323.77, directionMin=311.85999999999996, period=6), Swell(height=0.4, direction=273.85, directionMin=270.505, period=12), Swell(height=0, direction=0, directionMin=0, period=0), Swell(height=0.17, direction=286.4, directionMin=279.25, period=19)]), Forecast(timestamp=Time(timestamp=1695175200, dt=datetime.datetime(2023, 9, 20, 2, 0)), weather=Weather(temperature=20, condition='NIGHT_CLEAR'), wind=Wind(speed=4.66934, direction=91.93627), surf=Surf(min=0.44269, max=0.69171), swells=[Swell(height=0.54, direction=329.43, directionMin=323.705, period=9), Swell(height=0.36, direction=283.52, directionMin=278.72999999999996, period=10), Swell(height=0.97, direction=323.53, directionMin=311.55999999999995, period=6), Swell(height=0.39, direction=273.66, directionMin=270.185, period=12), Swell(height=0, direction=0, directionMin=0, period=0), Swell(height=0.18, direction=293.02, directionMin=285.405, period=18)]), Forecast(timestamp=Time(timestamp=1695186000, dt=datetime.datetime(2023, 9, 20, 5, 0)), weather=Weather(temperature=19, condition='NIGHT_CLEAR'), wind=Wind(speed=2.06763, direction=89.17621), surf=Surf(min=0.42282, max=0.66066), swells=[Swell(height=0.51, direction=329.79, directionMin=323.84000000000003, period=9), Swell(height=0.35, direction=283.11, directionMin=278.505, period=10), Swell(height=0.87, direction=324.31, directionMin=312.37, period=6), Swell(height=0.38, direction=273.47, directionMin=270.24, period=12), Swell(height=0, direction=0, directionMin=0, period=0), Swell(height=0.22, direction=295.58, directionMin=286.91999999999996, period=18)]), Forecast(timestamp=Time(timestamp=1695196800, dt=datetime.datetime(2023, 9, 20, 8, 0)), weather=Weather(temperature=20, condition='CLEAR'), wind=Wind(speed=1.85277, direction=306.74741), surf=Surf(min=0.39063, max=0.61036), swells=[Swell(height=0.52, direction=331.5, directionMin=325.83, period=9), Swell(height=0.36, direction=281.11, directionMin=275.995, period=10), Swell(height=0.76, direction=323.38, directionMin=311.135, period=6), Swell(height=0.31, direction=273.77, directionMin=270.375, period=12), Swell(height=0.28, direction=282.36, directionMin=277.125, period=17), Swell(height=0.17, direction=318.32, directionMin=314.4, period=17)]), Forecast(timestamp=Time(timestamp=1695207600, dt=datetime.datetime(2023, 9, 20, 11, 0)), weather=Weather(temperature=21, condition='CLEAR'), wind=Wind(speed=7.05763, direction=267.97044), surf=Surf(min=0.52658, max=0.82279), swells=[Swell(height=0.53, direction=328.52, directionMin=321.53, period=9), Swell(height=0, direction=0, directionMin=0, period=0), Swell(height=0.64, direction=325.98, directionMin=313.58000000000004, period=5), Swell(height=0.5, direction=278.6, directionMin=273.56, period=12), Swell(height=0.26, direction=284.63, directionMin=279.795, period=16), Swell(height=0.27, direction=316.63, directionMin=311.725, period=17)]), Forecast(timestamp=Time(timestamp=1695218400, dt=datetime.datetime(2023, 9, 20, 14, 0)), weather=Weather(temperature=23, condition='CLEAR'), wind=Wind(speed=9.01361, direction=289.52251), surf=Surf(min=0.50442, max=0.78815), swells=[Swell(height=0.47, direction=331.1, directionMin=324.70500000000004, period=8), Swell(height=0, direction=0, directionMin=0, period=0), Swell(height=0.7, direction=323.51, directionMin=311.65999999999997, period=5), Swell(height=0.47, direction=278.57, directionMin=273.895, period=12), Swell(height=0.32, direction=284.85, directionMin=279.255, period=16), Swell(height=0.33, direction=317.12, directionMin=312.6, period=16)]), Forecast(timestamp=Time(timestamp=1695229200, dt=datetime.datetime(2023, 9, 20, 17, 0)), weather=Weather(temperature=24, condition='CLEAR'), wind=Wind(speed=15.89406, direction=324.17164), surf=Surf(min=0.47667, max=0.74479), swells=[Swell(height=0, direction=0, directionMin=0, period=0), Swell(height=0.25, direction=282.48, directionMin=278.595, period=9), Swell(height=1.08, direction=324.44, directionMin=313.13, period=5), Swell(height=0.3, direction=274.4, directionMin=270.89, period=12), Swell(height=0.38, direction=280.45, directionMin=275.83, period=16), Swell(height=0.45, direction=314.85, directionMin=309.505, period=16)]), Forecast(timestamp=Time(timestamp=1695240000, dt=datetime.datetime(2023, 9, 20, 20, 0)), weather=Weather(temperature=22, condition='NIGHT_CLEAR'), wind=Wind(speed=7.88255, direction=14.30622), surf=Surf(min=0.49441, max=0.77251), swells=[Swell(height=0.31, direction=336.76, directionMin=331.59999999999997, period=8), Swell(height=0.23, direction=283.8, directionMin=279.535, period=9), Swell(height=1.09, direction=324.04, directionMin=311.805, period=6), Swell(height=0.31, direction=275.87, directionMin=271.79, period=12), Swell(height=0.41, direction=280.43, directionMin=276.15000000000003, period=15), Swell(height=0.51, direction=313.96, directionMin=308.66499999999996, period=15)]), Forecast(timestamp=Time(timestamp=1695250800, dt=datetime.datetime(2023, 9, 20, 23, 0)), weather=Weather(temperature=20, condition='NIGHT_CLEAR'), wind=Wind(speed=9.69706, direction=109.8213), surf=Surf(min=0.59991, max=0.93735), swells=[Swell(height=0.18, direction=344.85, directionMin=342.03000000000003, period=8), Swell(height=0.22, direction=283.12, directionMin=279.035, period=9), Swell(height=1.02, direction=323.93, directionMin=311.845, period=6), Swell(height=0, direction=0, directionMin=0, period=0), Swell(height=0.53, direction=278.66, directionMin=274.57500000000005, period=14), Swell(height=0.57, direction=313.77, directionMin=308.22499999999997, period=15)])], sunriseSunsetTimes=[SunriseSunsetTime(midnight=Time(timestamp=1694991600, dt=datetime.datetime(2023, 9, 17, 23, 0)), sunrise=Time(timestamp=1695018359, dt=datetime.datetime(2023, 9, 18, 6, 25, 59)), sunset=Time(timestamp=1695062593, dt=datetime.datetime(2023, 9, 18, 18, 43, 13))), SunriseSunsetTime(midnight=Time(timestamp=1695078000, dt=datetime.datetime(2023, 9, 18, 23, 0)), sunrise=Time(timestamp=1695104792, dt=datetime.datetime(2023, 9, 19, 6, 26, 32)), sunset=Time(timestamp=1695148916, dt=datetime.datetime(2023, 9, 19, 18, 41, 56))), SunriseSunsetTime(midnight=Time(timestamp=1695164400, dt=datetime.datetime(2023, 9, 19, 23, 0)), sunrise=Time(timestamp=1695191225, dt=datetime.datetime(2023, 9, 20, 6, 27, 5)), sunset=Time(timestamp=1695235238, dt=datetime.datetime(2023, 9, 20, 18, 40, 38))), SunriseSunsetTime(midnight=Time(timestamp=1695250800, dt=datetime.datetime(2023, 9, 20, 23, 0)), sunrise=Time(timestamp=1695277658, dt=datetime.datetime(2023, 9, 21, 6, 27, 38)), sunset=Time(timestamp=1695321561, dt=datetime.datetime(2023, 9, 21, 18, 39, 21)))], tides=[Tide(timestamp=Time(timestamp=1694988000, dt=datetime.datetime(2023, 9, 17, 22, 0)), type='NORMAL', height=1.15), Tide(timestamp=Time(timestamp=1694991600, dt=datetime.datetime(2023, 9, 17, 23, 0)), type='NORMAL', height=1.55), Tide(timestamp=Time(timestamp=1694995200, dt=datetime.datetime(2023, 9, 18, 0, 0)), type='NORMAL', height=2.12), Tide(timestamp=Time(timestamp=1694998800, dt=datetime.datetime(2023, 9, 18, 1, 0)), type='NORMAL', height=2.71), Tide(timestamp=Time(timestamp=1695002400, dt=datetime.datetime(2023, 9, 18, 2, 0)), type='NORMAL', height=3.16), Tide(timestamp=Time(timestamp=1695006000, dt=datetime.datetime(2023, 9, 18, 3, 0)), type='NORMAL', height=3.36), Tide(timestamp=Time(timestamp=1695006471, dt=datetime.datetime(2023, 9, 18, 3, 7, 51)), type='HIGH', height=3.36), Tide(timestamp=Time(timestamp=1695009600, dt=datetime.datetime(2023, 9, 18, 4, 0)), type='NORMAL', height=3.25), Tide(timestamp=Time(timestamp=1695013200, dt=datetime.datetime(2023, 9, 18, 5, 0)), type='NORMAL', height=2.88), Tide(timestamp=Time(timestamp=1695016800, dt=datetime.datetime(2023, 9, 18, 6, 0)), type='NORMAL', height=2.34), Tide(timestamp=Time(timestamp=1695020400, dt=datetime.datetime(2023, 9, 18, 7, 0)), type='NORMAL', height=1.78), Tide(timestamp=Time(timestamp=1695024000, dt=datetime.datetime(2023, 9, 18, 8, 0)), type='NORMAL', height=1.32), Tide(timestamp=Time(timestamp=1695027600, dt=datetime.datetime(2023, 9, 18, 9, 0)), type='NORMAL', height=1.09), Tide(timestamp=Time(timestamp=1695028713, dt=datetime.datetime(2023, 9, 18, 9, 18, 33)), type='LOW', height=1.08), Tide(timestamp=Time(timestamp=1695031200, dt=datetime.datetime(2023, 9, 18, 10, 0)), type='NORMAL', height=1.15), Tide(timestamp=Time(timestamp=1695034800, dt=datetime.datetime(2023, 9, 18, 11, 0)), type='NORMAL', height=1.5), Tide(timestamp=Time(timestamp=1695038400, dt=datetime.datetime(2023, 9, 18, 12, 0)), type='NORMAL', height=2.04), Tide(timestamp=Time(timestamp=1695042000, dt=datetime.datetime(2023, 9, 18, 13, 0)), type='NORMAL', height=2.64), Tide(timestamp=Time(timestamp=1695045600, dt=datetime.datetime(2023, 9, 18, 14, 0)), type='NORMAL', height=3.13), Tide(timestamp=Time(timestamp=1695049200, dt=datetime.datetime(2023, 9, 18, 15, 0)), type='NORMAL', height=3.39), Tide(timestamp=Time(timestamp=1695050522, dt=datetime.datetime(2023, 9, 18, 15, 22, 2)), type='HIGH', height=3.41), Tide(timestamp=Time(timestamp=1695052800, dt=datetime.datetime(2023, 9, 18, 16, 0)), type='NORMAL', height=3.36), Tide(timestamp=Time(timestamp=1695056400, dt=datetime.datetime(2023, 9, 18, 17, 0)), type='NORMAL', height=3.05), Tide(timestamp=Time(timestamp=1695060000, dt=datetime.datetime(2023, 9, 18, 18, 0)), type='NORMAL', height=2.55), Tide(timestamp=Time(timestamp=1695063600, dt=datetime.datetime(2023, 9, 18, 19, 0)), type='NORMAL', height=1.98), Tide(timestamp=Time(timestamp=1695067200, dt=datetime.datetime(2023, 9, 18, 20, 0)), type='NORMAL', height=1.48), Tide(timestamp=Time(timestamp=1695070800, dt=datetime.datetime(2023, 9, 18, 21, 0)), type='NORMAL', height=1.18), Tide(timestamp=Time(timestamp=1695073056, dt=datetime.datetime(2023, 9, 18, 21, 37, 36)), type='LOW', height=1.12), Tide(timestamp=Time(timestamp=1695074400, dt=datetime.datetime(2023, 9, 18, 22, 0)), type='NORMAL', height=1.15), Tide(timestamp=Time(timestamp=1695078000, dt=datetime.datetime(2023, 9, 18, 23, 0)), type='NORMAL', height=1.4), Tide(timestamp=Time(timestamp=1695081600, dt=datetime.datetime(2023, 9, 19, 0, 0)), type='NORMAL', height=1.86), Tide(timestamp=Time(timestamp=1695085200, dt=datetime.datetime(2023, 9, 19, 1, 0)), type='NORMAL', height=2.42), Tide(timestamp=Time(timestamp=1695088800, dt=datetime.datetime(2023, 9, 19, 2, 0)), type='NORMAL', height=2.92), Tide(timestamp=Time(timestamp=1695092400, dt=datetime.datetime(2023, 9, 19, 3, 0)), type='NORMAL', height=3.23), Tide(timestamp=Time(timestamp=1695094689, dt=datetime.datetime(2023, 9, 19, 3, 38, 9)), type='HIGH', height=3.29), Tide(timestamp=Time(timestamp=1695096000, dt=datetime.datetime(2023, 9, 19, 4, 0)), type='NORMAL', height=3.27), Tide(timestamp=Time(timestamp=1695099600, dt=datetime.datetime(2023, 9, 19, 5, 0)), type='NORMAL', height=3.05), Tide(timestamp=Time(timestamp=1695103200, dt=datetime.datetime(2023, 9, 19, 6, 0)), type='NORMAL', height=2.62), Tide(timestamp=Time(timestamp=1695106800, dt=datetime.datetime(2023, 9, 19, 7, 0)), type='NORMAL', height=2.09), Tide(timestamp=Time(timestamp=1695110400, dt=datetime.datetime(2023, 9, 19, 8, 0)), type='NORMAL', height=1.6), Tide(timestamp=Time(timestamp=1695114000, dt=datetime.datetime(2023, 9, 19, 9, 0)), type='NORMAL', height=1.27), Tide(timestamp=Time(timestamp=1695117053, dt=datetime.datetime(2023, 9, 19, 9, 50, 53)), type='LOW', height=1.18), Tide(timestamp=Time(timestamp=1695117600, dt=datetime.datetime(2023, 9, 19, 10, 0)), type='NORMAL', height=1.18), Tide(timestamp=Time(timestamp=1695121200, dt=datetime.datetime(2023, 9, 19, 11, 0)), type='NORMAL', height=1.36), Tide(timestamp=Time(timestamp=1695124800, dt=datetime.datetime(2023, 9, 19, 12, 0)), type='NORMAL', height=1.77), Tide(timestamp=Time(timestamp=1695128400, dt=datetime.datetime(2023, 9, 19, 13, 0)), type='NORMAL', height=2.3), Tide(timestamp=Time(timestamp=1695132000, dt=datetime.datetime(2023, 9, 19, 14, 0)), type='NORMAL', height=2.81), Tide(timestamp=Time(timestamp=1695135600, dt=datetime.datetime(2023, 9, 19, 15, 0)), type='NORMAL', height=3.16), Tide(timestamp=Time(timestamp=1695138875, dt=datetime.datetime(2023, 9, 19, 15, 54, 35)), type='HIGH', height=3.28), Tide(timestamp=Time(timestamp=1695139200, dt=datetime.datetime(2023, 9, 19, 16, 0)), type='NORMAL', height=3.28), Tide(timestamp=Time(timestamp=1695142800, dt=datetime.datetime(2023, 9, 19, 17, 0)), type='NORMAL', height=3.13), Tide(timestamp=Time(timestamp=1695146400, dt=datetime.datetime(2023, 9, 19, 18, 0)), type='NORMAL', height=2.76), Tide(timestamp=Time(timestamp=1695150000, dt=datetime.datetime(2023, 9, 19, 19, 0)), type='NORMAL', height=2.28), Tide(timestamp=Time(timestamp=1695153600, dt=datetime.datetime(2023, 9, 19, 20, 0)), type='NORMAL', height=1.79), Tide(timestamp=Time(timestamp=1695157200, dt=datetime.datetime(2023, 9, 19, 21, 0)), type='NORMAL', height=1.42), Tide(timestamp=Time(timestamp=1695160800, dt=datetime.datetime(2023, 9, 19, 22, 0)), type='NORMAL', height=1.26), Tide(timestamp=Time(timestamp=1695161381, dt=datetime.datetime(2023, 9, 19, 22, 9, 41)), type='LOW', height=1.26), Tide(timestamp=Time(timestamp=1695164400, dt=datetime.datetime(2023, 9, 19, 23, 0)), type='NORMAL', height=1.35), Tide(timestamp=Time(timestamp=1695168000, dt=datetime.datetime(2023, 9, 20, 0, 0)), type='NORMAL', height=1.67), Tide(timestamp=Time(timestamp=1695171600, dt=datetime.datetime(2023, 9, 20, 1, 0)), type='NORMAL', height=2.14), Tide(timestamp=Time(timestamp=1695175200, dt=datetime.datetime(2023, 9, 20, 2, 0)), type='NORMAL', height=2.63), Tide(timestamp=Time(timestamp=1695178800, dt=datetime.datetime(2023, 9, 20, 3, 0)), type='NORMAL', height=3.01), Tide(timestamp=Time(timestamp=1695182400, dt=datetime.datetime(2023, 9, 20, 4, 0)), type='NORMAL', height=3.18), Tide(timestamp=Time(timestamp=1695183110, dt=datetime.datetime(2023, 9, 20, 4, 11, 50)), type='HIGH', height=3.19), Tide(timestamp=Time(timestamp=1695186000, dt=datetime.datetime(2023, 9, 20, 5, 0)), type='NORMAL', height=3.11), Tide(timestamp=Time(timestamp=1695189600, dt=datetime.datetime(2023, 9, 20, 6, 0)), type='NORMAL', height=2.82), Tide(timestamp=Time(timestamp=1695193200, dt=datetime.datetime(2023, 9, 20, 7, 0)), type='NORMAL', height=2.4), Tide(timestamp=Time(timestamp=1695196800, dt=datetime.datetime(2023, 9, 20, 8, 0)), type='NORMAL', height=1.93), Tide(timestamp=Time(timestamp=1695200400, dt=datetime.datetime(2023, 9, 20, 9, 0)), type='NORMAL', height=1.55), Tide(timestamp=Time(timestamp=1695204000, dt=datetime.datetime(2023, 9, 20, 10, 0)), type='NORMAL', height=1.34), Tide(timestamp=Time(timestamp=1695205658, dt=datetime.datetime(2023, 9, 20, 10, 27, 38)), type='LOW', height=1.31), Tide(timestamp=Time(timestamp=1695207600, dt=datetime.datetime(2023, 9, 20, 11, 0)), type='NORMAL', height=1.35), Tide(timestamp=Time(timestamp=1695211200, dt=datetime.datetime(2023, 9, 20, 12, 0)), type='NORMAL', height=1.59), Tide(timestamp=Time(timestamp=1695214800, dt=datetime.datetime(2023, 9, 20, 13, 0)), type='NORMAL', height=1.99), Tide(timestamp=Time(timestamp=1695218400, dt=datetime.datetime(2023, 9, 20, 14, 0)), type='NORMAL', height=2.45), Tide(timestamp=Time(timestamp=1695222000, dt=datetime.datetime(2023, 9, 20, 15, 0)), type='NORMAL', height=2.84), Tide(timestamp=Time(timestamp=1695225600, dt=datetime.datetime(2023, 9, 20, 16, 0)), type='NORMAL', height=3.07), Tide(timestamp=Time(timestamp=1695227522, dt=datetime.datetime(2023, 9, 20, 16, 32, 2)), type='HIGH', height=3.1), Tide(timestamp=Time(timestamp=1695229200, dt=datetime.datetime(2023, 9, 20, 17, 0)), type='NORMAL', height=3.08), Tide(timestamp=Time(timestamp=1695232800, dt=datetime.datetime(2023, 9, 20, 18, 0)), type='NORMAL', height=2.88), Tide(timestamp=Time(timestamp=1695236400, dt=datetime.datetime(2023, 9, 20, 19, 0)), type='NORMAL', height=2.53), Tide(timestamp=Time(timestamp=1695240000, dt=datetime.datetime(2023, 9, 20, 20, 0)), type='NORMAL', height=2.11), Tide(timestamp=Time(timestamp=1695243600, dt=datetime.datetime(2023, 9, 20, 21, 0)), type='NORMAL', height=1.73), Tide(timestamp=Time(timestamp=1695247200, dt=datetime.datetime(2023, 9, 20, 22, 0)), type='NORMAL', height=1.49), Tide(timestamp=Time(timestamp=1695250010, dt=datetime.datetime(2023, 9, 20, 22, 46, 50)), type='LOW', height=1.42), Tide(timestamp=Time(timestamp=1695250800, dt=datetime.datetime(2023, 9, 20, 23, 0)), type='NORMAL', height=1.43), Tide(timestamp=Time(timestamp=1695254400, dt=datetime.datetime(2023, 9, 21, 0, 0)), type='NORMAL', height=1.58), Tide(timestamp=Time(timestamp=1695258000, dt=datetime.datetime(2023, 9, 21, 1, 0)), type='NORMAL', height=1.9), Tide(timestamp=Time(timestamp=1695261600, dt=datetime.datetime(2023, 9, 21, 2, 0)), type='NORMAL', height=2.31)], tideLocation=TideLocation(name='Agadir', min=0.15, max=4.19, lon=-9.6167, lat=30.4167, mean=0))"
      ]
     },
     "execution_count": 3,
     "metadata": {},
     "output_type": "execute_result"
    }
   ],
   "source": [
    "spotforecast = pysurfline.get_spot_forecasts(spotId)\n",
    "spotforecast"
   ]
  },
  {
   "cell_type": "markdown",
   "metadata": {},
   "source": [
    "## SpotForecast\n",
    "\n",
    "The class `SpotForecast` is an object optimized to store Surfline API Forecast data.\n",
    "\n",
    "At the base of its structure there are the `Surf`, `Wind`, `Weather`, `Swell` classes. These objects togheter form an hourly `Forecast` as per the following scheme:\n",
    "\n",
    "```\n",
    "class Forecast:\n",
    "    timestamp: Time\n",
    "    weather: Weather\n",
    "    wind: Wind\n",
    "    surf: Surf\n",
    "    swells: List[Swell]\n",
    "```\n",
    "\n",
    "Along with a list of `SunriseSunsetTime` and `Tide` ovjects for daylight timings and tides, and `TideLocation` object for general tide information, the `SpotForecast`  object has the following structure:\n",
    "\n",
    "```\n",
    "class SpotForecast:\n",
    "    name: str\n",
    "    spotId: int\n",
    "    forecasts: List[Forecast]\n",
    "    sunriseSunsetTimes: List[SunriseSunsetTime]\n",
    "    tides: List[Tide]\n",
    "    tideLocation: TideLocation\n",
    "```\n"
   ]
  },
  {
   "cell_type": "code",
   "execution_count": 4,
   "metadata": {},
   "outputs": [
    {
     "data": {
      "text/plain": [
       "'Anchor Point'"
      ]
     },
     "execution_count": 4,
     "metadata": {},
     "output_type": "execute_result"
    }
   ],
   "source": [
    "spotforecast.name"
   ]
  },
  {
   "cell_type": "code",
   "execution_count": 5,
   "metadata": {},
   "outputs": [
    {
     "data": {
      "text/plain": [
       "[Forecast(timestamp=Time(timestamp=1694991600, dt=datetime.datetime(2023, 9, 17, 23, 0)), weather=Weather(temperature=21, condition='NIGHT_CLEAR'), wind=Wind(speed=4.5434, direction=43.02343), surf=Surf(min=1.22449, max=1.91326), swells=[Swell(height=1.85, direction=308.53, directionMin=298.195, period=12), Swell(height=0, direction=0, directionMin=0, period=0), Swell(height=0, direction=0, directionMin=0, period=0), Swell(height=0, direction=0, directionMin=0, period=0), Swell(height=0, direction=0, directionMin=0, period=0), Swell(height=0, direction=0, directionMin=0, period=0)]),\n",
       " Forecast(timestamp=Time(timestamp=1695002400, dt=datetime.datetime(2023, 9, 18, 2, 0)), weather=Weather(temperature=20, condition='NIGHT_CLEAR'), wind=Wind(speed=1.39542, direction=25.46184), surf=Surf(min=1.13689, max=1.77639), swells=[Swell(height=1.66, direction=312.37, directionMin=303.40500000000003, period=12), Swell(height=0.59, direction=275.06, directionMin=271.82, period=12), Swell(height=0, direction=0, directionMin=0, period=0), Swell(height=0, direction=0, directionMin=0, period=0), Swell(height=0, direction=0, directionMin=0, period=0), Swell(height=0, direction=0, directionMin=0, period=0)])]"
      ]
     },
     "execution_count": 5,
     "metadata": {},
     "output_type": "execute_result"
    }
   ],
   "source": [
    "spotforecast.forecasts[:2]"
   ]
  },
  {
   "cell_type": "code",
   "execution_count": 6,
   "metadata": {},
   "outputs": [
    {
     "data": {
      "text/plain": [
       "[Tide(timestamp=Time(timestamp=1694988000, dt=datetime.datetime(2023, 9, 17, 22, 0)), type='NORMAL', height=1.15),\n",
       " Tide(timestamp=Time(timestamp=1694991600, dt=datetime.datetime(2023, 9, 17, 23, 0)), type='NORMAL', height=1.55)]"
      ]
     },
     "execution_count": 6,
     "metadata": {},
     "output_type": "execute_result"
    }
   ],
   "source": [
    "spotforecast.tides[:2]"
   ]
  },
  {
   "cell_type": "markdown",
   "metadata": {},
   "source": [
    "## as pandas DataFrame\n",
    "\n",
    "The different `SpotForecast` attributes can be accessed as pandas DataFrame for easy data manipulation."
   ]
  },
  {
   "cell_type": "code",
   "execution_count": 7,
   "metadata": {},
   "outputs": [
    {
     "data": {
      "text/html": [
       "<div>\n",
       "<style scoped>\n",
       "    .dataframe tbody tr th:only-of-type {\n",
       "        vertical-align: middle;\n",
       "    }\n",
       "\n",
       "    .dataframe tbody tr th {\n",
       "        vertical-align: top;\n",
       "    }\n",
       "\n",
       "    .dataframe thead th {\n",
       "        text-align: right;\n",
       "    }\n",
       "</style>\n",
       "<table border=\"1\" class=\"dataframe\">\n",
       "  <thead>\n",
       "    <tr style=\"text-align: right;\">\n",
       "      <th></th>\n",
       "      <th>timestamp_timestamp</th>\n",
       "      <th>timestamp_dt</th>\n",
       "      <th>weather_temperature</th>\n",
       "      <th>weather_condition</th>\n",
       "      <th>wind_speed</th>\n",
       "      <th>wind_direction</th>\n",
       "      <th>surf_min</th>\n",
       "      <th>surf_max</th>\n",
       "      <th>swells_0_height</th>\n",
       "      <th>swells_0_direction</th>\n",
       "      <th>...</th>\n",
       "      <th>swells_3_directionMin</th>\n",
       "      <th>swells_3_period</th>\n",
       "      <th>swells_4_height</th>\n",
       "      <th>swells_4_direction</th>\n",
       "      <th>swells_4_directionMin</th>\n",
       "      <th>swells_4_period</th>\n",
       "      <th>swells_5_height</th>\n",
       "      <th>swells_5_direction</th>\n",
       "      <th>swells_5_directionMin</th>\n",
       "      <th>swells_5_period</th>\n",
       "    </tr>\n",
       "  </thead>\n",
       "  <tbody>\n",
       "    <tr>\n",
       "      <th>0</th>\n",
       "      <td>1694991600</td>\n",
       "      <td>2023-09-17 23:00:00</td>\n",
       "      <td>21</td>\n",
       "      <td>NIGHT_CLEAR</td>\n",
       "      <td>4.54340</td>\n",
       "      <td>43.02343</td>\n",
       "      <td>1.22449</td>\n",
       "      <td>1.91326</td>\n",
       "      <td>1.85</td>\n",
       "      <td>308.53</td>\n",
       "      <td>...</td>\n",
       "      <td>0.0</td>\n",
       "      <td>0</td>\n",
       "      <td>0.0</td>\n",
       "      <td>0.0</td>\n",
       "      <td>0.0</td>\n",
       "      <td>0</td>\n",
       "      <td>0.0</td>\n",
       "      <td>0.0</td>\n",
       "      <td>0.0</td>\n",
       "      <td>0</td>\n",
       "    </tr>\n",
       "    <tr>\n",
       "      <th>1</th>\n",
       "      <td>1695002400</td>\n",
       "      <td>2023-09-18 02:00:00</td>\n",
       "      <td>20</td>\n",
       "      <td>NIGHT_CLEAR</td>\n",
       "      <td>1.39542</td>\n",
       "      <td>25.46184</td>\n",
       "      <td>1.13689</td>\n",
       "      <td>1.77639</td>\n",
       "      <td>1.66</td>\n",
       "      <td>312.37</td>\n",
       "      <td>...</td>\n",
       "      <td>0.0</td>\n",
       "      <td>0</td>\n",
       "      <td>0.0</td>\n",
       "      <td>0.0</td>\n",
       "      <td>0.0</td>\n",
       "      <td>0</td>\n",
       "      <td>0.0</td>\n",
       "      <td>0.0</td>\n",
       "      <td>0.0</td>\n",
       "      <td>0</td>\n",
       "    </tr>\n",
       "    <tr>\n",
       "      <th>2</th>\n",
       "      <td>1695013200</td>\n",
       "      <td>2023-09-18 05:00:00</td>\n",
       "      <td>20</td>\n",
       "      <td>NIGHT_CLEAR</td>\n",
       "      <td>2.03206</td>\n",
       "      <td>36.48573</td>\n",
       "      <td>1.01611</td>\n",
       "      <td>1.58767</td>\n",
       "      <td>1.55</td>\n",
       "      <td>315.04</td>\n",
       "      <td>...</td>\n",
       "      <td>0.0</td>\n",
       "      <td>0</td>\n",
       "      <td>0.0</td>\n",
       "      <td>0.0</td>\n",
       "      <td>0.0</td>\n",
       "      <td>0</td>\n",
       "      <td>0.0</td>\n",
       "      <td>0.0</td>\n",
       "      <td>0.0</td>\n",
       "      <td>0</td>\n",
       "    </tr>\n",
       "    <tr>\n",
       "      <th>3</th>\n",
       "      <td>1695024000</td>\n",
       "      <td>2023-09-18 08:00:00</td>\n",
       "      <td>20</td>\n",
       "      <td>CLEAR</td>\n",
       "      <td>1.27305</td>\n",
       "      <td>157.22527</td>\n",
       "      <td>0.97247</td>\n",
       "      <td>1.51949</td>\n",
       "      <td>1.49</td>\n",
       "      <td>315.42</td>\n",
       "      <td>...</td>\n",
       "      <td>0.0</td>\n",
       "      <td>0</td>\n",
       "      <td>0.0</td>\n",
       "      <td>0.0</td>\n",
       "      <td>0.0</td>\n",
       "      <td>0</td>\n",
       "      <td>0.0</td>\n",
       "      <td>0.0</td>\n",
       "      <td>0.0</td>\n",
       "      <td>0</td>\n",
       "    </tr>\n",
       "    <tr>\n",
       "      <th>4</th>\n",
       "      <td>1695034800</td>\n",
       "      <td>2023-09-18 11:00:00</td>\n",
       "      <td>21</td>\n",
       "      <td>CLEAR</td>\n",
       "      <td>6.50236</td>\n",
       "      <td>284.92719</td>\n",
       "      <td>0.94055</td>\n",
       "      <td>1.46961</td>\n",
       "      <td>1.41</td>\n",
       "      <td>317.44</td>\n",
       "      <td>...</td>\n",
       "      <td>0.0</td>\n",
       "      <td>0</td>\n",
       "      <td>0.0</td>\n",
       "      <td>0.0</td>\n",
       "      <td>0.0</td>\n",
       "      <td>0</td>\n",
       "      <td>0.0</td>\n",
       "      <td>0.0</td>\n",
       "      <td>0.0</td>\n",
       "      <td>0</td>\n",
       "    </tr>\n",
       "  </tbody>\n",
       "</table>\n",
       "<p>5 rows × 32 columns</p>\n",
       "</div>"
      ],
      "text/plain": [
       "   timestamp_timestamp        timestamp_dt  weather_temperature  \\\n",
       "0           1694991600 2023-09-17 23:00:00                   21   \n",
       "1           1695002400 2023-09-18 02:00:00                   20   \n",
       "2           1695013200 2023-09-18 05:00:00                   20   \n",
       "3           1695024000 2023-09-18 08:00:00                   20   \n",
       "4           1695034800 2023-09-18 11:00:00                   21   \n",
       "\n",
       "  weather_condition  wind_speed  wind_direction  surf_min  surf_max  \\\n",
       "0       NIGHT_CLEAR     4.54340        43.02343   1.22449   1.91326   \n",
       "1       NIGHT_CLEAR     1.39542        25.46184   1.13689   1.77639   \n",
       "2       NIGHT_CLEAR     2.03206        36.48573   1.01611   1.58767   \n",
       "3             CLEAR     1.27305       157.22527   0.97247   1.51949   \n",
       "4             CLEAR     6.50236       284.92719   0.94055   1.46961   \n",
       "\n",
       "   swells_0_height  swells_0_direction  ...  swells_3_directionMin  \\\n",
       "0             1.85              308.53  ...                    0.0   \n",
       "1             1.66              312.37  ...                    0.0   \n",
       "2             1.55              315.04  ...                    0.0   \n",
       "3             1.49              315.42  ...                    0.0   \n",
       "4             1.41              317.44  ...                    0.0   \n",
       "\n",
       "   swells_3_period  swells_4_height  swells_4_direction  \\\n",
       "0                0              0.0                 0.0   \n",
       "1                0              0.0                 0.0   \n",
       "2                0              0.0                 0.0   \n",
       "3                0              0.0                 0.0   \n",
       "4                0              0.0                 0.0   \n",
       "\n",
       "   swells_4_directionMin  swells_4_period  swells_5_height  \\\n",
       "0                    0.0                0              0.0   \n",
       "1                    0.0                0              0.0   \n",
       "2                    0.0                0              0.0   \n",
       "3                    0.0                0              0.0   \n",
       "4                    0.0                0              0.0   \n",
       "\n",
       "   swells_5_direction  swells_5_directionMin  swells_5_period  \n",
       "0                 0.0                    0.0                0  \n",
       "1                 0.0                    0.0                0  \n",
       "2                 0.0                    0.0                0  \n",
       "3                 0.0                    0.0                0  \n",
       "4                 0.0                    0.0                0  \n",
       "\n",
       "[5 rows x 32 columns]"
      ]
     },
     "execution_count": 7,
     "metadata": {},
     "output_type": "execute_result"
    }
   ],
   "source": [
    "# default is forecasts\n",
    "spotforecast.get_dataframe().head()"
   ]
  },
  {
   "cell_type": "code",
   "execution_count": 8,
   "metadata": {},
   "outputs": [
    {
     "data": {
      "text/html": [
       "<div>\n",
       "<style scoped>\n",
       "    .dataframe tbody tr th:only-of-type {\n",
       "        vertical-align: middle;\n",
       "    }\n",
       "\n",
       "    .dataframe tbody tr th {\n",
       "        vertical-align: top;\n",
       "    }\n",
       "\n",
       "    .dataframe thead th {\n",
       "        text-align: right;\n",
       "    }\n",
       "</style>\n",
       "<table border=\"1\" class=\"dataframe\">\n",
       "  <thead>\n",
       "    <tr style=\"text-align: right;\">\n",
       "      <th></th>\n",
       "      <th>timestamp_timestamp</th>\n",
       "      <th>timestamp_dt</th>\n",
       "      <th>type</th>\n",
       "      <th>height</th>\n",
       "    </tr>\n",
       "  </thead>\n",
       "  <tbody>\n",
       "    <tr>\n",
       "      <th>0</th>\n",
       "      <td>1694988000</td>\n",
       "      <td>2023-09-17 22:00:00</td>\n",
       "      <td>NORMAL</td>\n",
       "      <td>1.15</td>\n",
       "    </tr>\n",
       "    <tr>\n",
       "      <th>1</th>\n",
       "      <td>1694991600</td>\n",
       "      <td>2023-09-17 23:00:00</td>\n",
       "      <td>NORMAL</td>\n",
       "      <td>1.55</td>\n",
       "    </tr>\n",
       "    <tr>\n",
       "      <th>2</th>\n",
       "      <td>1694995200</td>\n",
       "      <td>2023-09-18 00:00:00</td>\n",
       "      <td>NORMAL</td>\n",
       "      <td>2.12</td>\n",
       "    </tr>\n",
       "    <tr>\n",
       "      <th>3</th>\n",
       "      <td>1694998800</td>\n",
       "      <td>2023-09-18 01:00:00</td>\n",
       "      <td>NORMAL</td>\n",
       "      <td>2.71</td>\n",
       "    </tr>\n",
       "    <tr>\n",
       "      <th>4</th>\n",
       "      <td>1695002400</td>\n",
       "      <td>2023-09-18 02:00:00</td>\n",
       "      <td>NORMAL</td>\n",
       "      <td>3.16</td>\n",
       "    </tr>\n",
       "  </tbody>\n",
       "</table>\n",
       "</div>"
      ],
      "text/plain": [
       "   timestamp_timestamp        timestamp_dt    type  height\n",
       "0           1694988000 2023-09-17 22:00:00  NORMAL    1.15\n",
       "1           1694991600 2023-09-17 23:00:00  NORMAL    1.55\n",
       "2           1694995200 2023-09-18 00:00:00  NORMAL    2.12\n",
       "3           1694998800 2023-09-18 01:00:00  NORMAL    2.71\n",
       "4           1695002400 2023-09-18 02:00:00  NORMAL    3.16"
      ]
     },
     "execution_count": 8,
     "metadata": {},
     "output_type": "execute_result"
    }
   ],
   "source": [
    "spotforecast.get_dataframe(\"tides\").head()"
   ]
  },
  {
   "cell_type": "code",
   "execution_count": 9,
   "metadata": {},
   "outputs": [
    {
     "data": {
      "text/html": [
       "<div>\n",
       "<style scoped>\n",
       "    .dataframe tbody tr th:only-of-type {\n",
       "        vertical-align: middle;\n",
       "    }\n",
       "\n",
       "    .dataframe tbody tr th {\n",
       "        vertical-align: top;\n",
       "    }\n",
       "\n",
       "    .dataframe thead th {\n",
       "        text-align: right;\n",
       "    }\n",
       "</style>\n",
       "<table border=\"1\" class=\"dataframe\">\n",
       "  <thead>\n",
       "    <tr style=\"text-align: right;\">\n",
       "      <th></th>\n",
       "      <th>midnight_timestamp</th>\n",
       "      <th>midnight_dt</th>\n",
       "      <th>sunrise_timestamp</th>\n",
       "      <th>sunrise_dt</th>\n",
       "      <th>sunset_timestamp</th>\n",
       "      <th>sunset_dt</th>\n",
       "    </tr>\n",
       "  </thead>\n",
       "  <tbody>\n",
       "    <tr>\n",
       "      <th>0</th>\n",
       "      <td>1694991600</td>\n",
       "      <td>2023-09-17 23:00:00</td>\n",
       "      <td>1695018359</td>\n",
       "      <td>2023-09-18 06:25:59</td>\n",
       "      <td>1695062593</td>\n",
       "      <td>2023-09-18 18:43:13</td>\n",
       "    </tr>\n",
       "    <tr>\n",
       "      <th>1</th>\n",
       "      <td>1695078000</td>\n",
       "      <td>2023-09-18 23:00:00</td>\n",
       "      <td>1695104792</td>\n",
       "      <td>2023-09-19 06:26:32</td>\n",
       "      <td>1695148916</td>\n",
       "      <td>2023-09-19 18:41:56</td>\n",
       "    </tr>\n",
       "    <tr>\n",
       "      <th>2</th>\n",
       "      <td>1695164400</td>\n",
       "      <td>2023-09-19 23:00:00</td>\n",
       "      <td>1695191225</td>\n",
       "      <td>2023-09-20 06:27:05</td>\n",
       "      <td>1695235238</td>\n",
       "      <td>2023-09-20 18:40:38</td>\n",
       "    </tr>\n",
       "    <tr>\n",
       "      <th>3</th>\n",
       "      <td>1695250800</td>\n",
       "      <td>2023-09-20 23:00:00</td>\n",
       "      <td>1695277658</td>\n",
       "      <td>2023-09-21 06:27:38</td>\n",
       "      <td>1695321561</td>\n",
       "      <td>2023-09-21 18:39:21</td>\n",
       "    </tr>\n",
       "  </tbody>\n",
       "</table>\n",
       "</div>"
      ],
      "text/plain": [
       "   midnight_timestamp         midnight_dt  sunrise_timestamp  \\\n",
       "0          1694991600 2023-09-17 23:00:00         1695018359   \n",
       "1          1695078000 2023-09-18 23:00:00         1695104792   \n",
       "2          1695164400 2023-09-19 23:00:00         1695191225   \n",
       "3          1695250800 2023-09-20 23:00:00         1695277658   \n",
       "\n",
       "           sunrise_dt  sunset_timestamp           sunset_dt  \n",
       "0 2023-09-18 06:25:59        1695062593 2023-09-18 18:43:13  \n",
       "1 2023-09-19 06:26:32        1695148916 2023-09-19 18:41:56  \n",
       "2 2023-09-20 06:27:05        1695235238 2023-09-20 18:40:38  \n",
       "3 2023-09-21 06:27:38        1695321561 2023-09-21 18:39:21  "
      ]
     },
     "execution_count": 9,
     "metadata": {},
     "output_type": "execute_result"
    }
   ],
   "source": [
    "spotforecast.get_dataframe(\"sunriseSunsetTimes\")"
   ]
  }
 ],
 "metadata": {
  "kernelspec": {
   "display_name": "pysurfline",
   "language": "python",
   "name": "python3"
  },
  "language_info": {
   "codemirror_mode": {
    "name": "ipython",
    "version": 3
   },
   "file_extension": ".py",
   "mimetype": "text/x-python",
   "name": "python",
   "nbconvert_exporter": "python",
   "pygments_lexer": "ipython3",
   "version": "3.9.18"
  }
 },
 "nbformat": 4,
 "nbformat_minor": 2
}
