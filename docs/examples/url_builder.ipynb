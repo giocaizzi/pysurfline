{
 "cells": [
  {
   "cell_type": "markdown",
   "metadata": {},
   "source": [
    "# Build URL for Surfline API\n",
    "\n",
    "Class to construct `url` in the format required by Surfline API."
   ]
  },
  {
   "cell_type": "code",
   "execution_count": 1,
   "metadata": {},
   "outputs": [],
   "source": [
    "from pysurfline import URLBuilder"
   ]
  },
  {
   "cell_type": "markdown",
   "metadata": {},
   "source": [
    "The available types are the following.\n",
    "\n",
    "Type|Data\n",
    "----|----\n",
    "wave|array of min/max sizes & optimal scores\n",
    "wind|array of wind directions/speeds & optimal scores\n",
    "tides|array of types & heights\n",
    "weather|array of sunrise/set times, array of temperatures/weather conditions"
   ]
  },
  {
   "cell_type": "markdown",
   "metadata": {},
   "source": [
    "\n",
    "The available params are the following:\n",
    "\n",
    "Param|Values|Note\n",
    "-----|------|------\n",
    "spotId|string|Surfline spot id\n",
    "days|integer|Number of forecast days to get (Max 6 w/o access token, Max 17 w/ premium token)\n",
    "intervalHours|integer|Minimum of 1 (hour)\n",
    "maxHeights|boolean|`true` seems to remove min & optimal values from the wave data output\n",
    "sds|boolean|If true, use the new LOTUS forecast engine\n",
    "accesstoken|string|Auth token to get premium data access (optional)"
   ]
  },
  {
   "cell_type": "code",
   "execution_count": 5,
   "metadata": {},
   "outputs": [
    {
     "data": {
      "text/plain": [
       "'https://services.surfline.com/kbyg/spots/forecasts/wave?spotId=584204204e65fad6a7709b09'"
      ]
     },
     "execution_count": 5,
     "metadata": {},
     "output_type": "execute_result"
    }
   ],
   "source": [
    "u=URLBuilder(\"wave\",{\"spotId\":\"584204204e65fad6a7709b09\"})\n",
    "u.url\n"
   ]
  }
 ],
 "metadata": {
  "interpreter": {
   "hash": "23044371c044313e244b0048ed33d880d5c8412ab56127472041d5309148d671"
  },
  "kernelspec": {
   "display_name": "Python 3.9.10 ('pysurfline')",
   "language": "python",
   "name": "python3"
  },
  "language_info": {
   "codemirror_mode": {
    "name": "ipython",
    "version": 3
   },
   "file_extension": ".py",
   "mimetype": "text/x-python",
   "name": "python",
   "nbconvert_exporter": "python",
   "pygments_lexer": "ipython3",
   "version": "3.9.10"
  }
 },
 "nbformat": 4,
 "nbformat_minor": 2
}
