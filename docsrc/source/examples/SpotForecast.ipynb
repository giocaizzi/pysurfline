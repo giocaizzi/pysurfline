{
 "cells": [
  {
   "cell_type": "markdown",
   "metadata": {},
   "source": [
    "# Get forecast for a spot\n",
    "\n",
    "`pysurfline` offers a simple interface to get the forecast for a spot. \n",
    "\n",
    "This data received from the API is unpacked into a `SpotForecast` object for convienience."
   ]
  },
  {
   "cell_type": "code",
   "execution_count": 1,
   "metadata": {},
   "outputs": [],
   "source": [
    "import pysurfline"
   ]
  },
  {
   "cell_type": "code",
   "execution_count": 2,
   "metadata": {},
   "outputs": [],
   "source": [
    "spotId = \"5842041f4e65fad6a7708cfd\" # anchor point"
   ]
  },
  {
   "cell_type": "code",
   "execution_count": 3,
   "metadata": {},
   "outputs": [
    {
     "data": {
      "text/plain": [
       "SpotForecasts(spotId='5842041f4e65fad6a7708cfd', name='Anchor Point', forecasts=[Forecast(timestamp=Time(timestamp=1695596400, dt=datetime.datetime(2023, 9, 24, 23, 0)), weather=Weather(temperature=20, condition='NIGHT_CLEAR'), wind=Wind(speed=7.05638, direction=123.95191), surf=Surf(min=0.69661, max=1.08845), swells=[Swell(height=0.88, direction=319.34, directionMin=308.685, period=10), Swell(height=0.64, direction=286.22, directionMin=280.41, period=15), Swell(height=0.22, direction=275, directionMin=271.405, period=10), Swell(height=0, direction=0, directionMin=0, period=0), Swell(height=0, direction=0, directionMin=0, period=0), Swell(height=0, direction=0, directionMin=0, period=0)]), Forecast(timestamp=Time(timestamp=1695607200, dt=datetime.datetime(2023, 9, 25, 2, 0)), weather=Weather(temperature=20, condition='NIGHT_CLEAR'), wind=Wind(speed=4.67634, direction=141.51741), surf=Surf(min=0.72732, max=1.13643), swells=[Swell(height=0.79, direction=322.07, directionMin=312.03, period=9), Swell(height=0.68, direction=285.31, directionMin=279.61, period=14), Swell(height=0.29, direction=279.38, directionMin=275.405, period=10), Swell(height=0, direction=0, directionMin=0, period=0), Swell(height=0, direction=0, directionMin=0, period=0), Swell(height=0, direction=0, directionMin=0, period=0)]), Forecast(timestamp=Time(timestamp=1695618000, dt=datetime.datetime(2023, 9, 25, 5, 0)), weather=Weather(temperature=19, condition='NIGHT_CLEAR'), wind=Wind(speed=1.79393, direction=136.22342), surf=Surf(min=0.72257, max=1.12901), swells=[Swell(height=0.74, direction=321.36, directionMin=310.885, period=9), Swell(height=0.71, direction=285.67, directionMin=279.725, period=13), Swell(height=0.25, direction=276.15, directionMin=272.66999999999996, period=9), Swell(height=0, direction=0, directionMin=0, period=0), Swell(height=0, direction=0, directionMin=0, period=0), Swell(height=0, direction=0, directionMin=0, period=0)]), Forecast(timestamp=Time(timestamp=1695628800, dt=datetime.datetime(2023, 9, 25, 8, 0)), weather=Weather(temperature=20, condition='CLEAR'), wind=Wind(speed=0.98865, direction=164.88908), surf=Surf(min=0.88315, max=1.37992), swells=[Swell(height=0, direction=0, directionMin=0, period=0), Swell(height=0, direction=0, directionMin=0, period=0), Swell(height=0.27, direction=277.28, directionMin=273.54999999999995, period=9), Swell(height=0, direction=0, directionMin=0, period=0), Swell(height=1.01, direction=301.02, directionMin=288.935, period=13), Swell(height=0, direction=0, directionMin=0, period=0)]), Forecast(timestamp=Time(timestamp=1695639600, dt=datetime.datetime(2023, 9, 25, 11, 0)), weather=Weather(temperature=21, condition='CLEAR'), wind=Wind(speed=4.90004, direction=242.40149), surf=Surf(min=0.84304, max=1.31725), swells=[Swell(height=0, direction=0, directionMin=0, period=0), Swell(height=0, direction=0, directionMin=0, period=0), Swell(height=0, direction=0, directionMin=0, period=0), Swell(height=0, direction=0, directionMin=0, period=0), Swell(height=0.96, direction=300.27, directionMin=288.135, period=13), Swell(height=0.3, direction=283.53, directionMin=278.53, period=9)]), Forecast(timestamp=Time(timestamp=1695650400, dt=datetime.datetime(2023, 9, 25, 14, 0)), weather=Weather(temperature=21, condition='CLEAR'), wind=Wind(speed=6.56063, direction=282.74234), surf=Surf(min=0.77174, max=1.20585), swells=[Swell(height=0, direction=0, directionMin=0, period=0), Swell(height=0, direction=0, directionMin=0, period=0), Swell(height=0, direction=0, directionMin=0, period=0), Swell(height=0, direction=0, directionMin=0, period=0), Swell(height=0.9, direction=300.49, directionMin=288.445, period=12), Swell(height=0.32, direction=283.04, directionMin=277.91, period=9)]), Forecast(timestamp=Time(timestamp=1695661200, dt=datetime.datetime(2023, 9, 25, 17, 0)), weather=Weather(temperature=22, condition='CLEAR'), wind=Wind(speed=8.58942, direction=291.89735), surf=Surf(min=0.69154, max=1.08054), swells=[Swell(height=0.47, direction=326.59, directionMin=316.38, period=8), Swell(height=0.74, direction=289.13, directionMin=280.99, period=12), Swell(height=0, direction=0, directionMin=0, period=0), Swell(height=0, direction=0, directionMin=0, period=0), Swell(height=0, direction=0, directionMin=0, period=0), Swell(height=0.32, direction=285.43, directionMin=279.835, period=9)]), Forecast(timestamp=Time(timestamp=1695672000, dt=datetime.datetime(2023, 9, 25, 20, 0)), weather=Weather(temperature=21, condition='NIGHT_CLEAR'), wind=Wind(speed=3.92145, direction=322.26491), surf=Surf(min=0.77036, max=1.20368), swells=[Swell(height=0, direction=0, directionMin=0, period=0), Swell(height=0, direction=0, directionMin=0, period=0), Swell(height=0, direction=0, directionMin=0, period=0), Swell(height=0, direction=0, directionMin=0, period=0), Swell(height=0.91, direction=298.02, directionMin=286.34999999999997, period=12), Swell(height=0, direction=0, directionMin=0, period=0)]), Forecast(timestamp=Time(timestamp=1695682800, dt=datetime.datetime(2023, 9, 25, 23, 0)), weather=Weather(temperature=20, condition='NIGHT_CLEAR'), wind=Wind(speed=1.57852, direction=70.86981), surf=Surf(min=0.72037, max=1.12558), swells=[Swell(height=0, direction=0, directionMin=0, period=0), Swell(height=0, direction=0, directionMin=0, period=0), Swell(height=0, direction=0, directionMin=0, period=0), Swell(height=0, direction=0, directionMin=0, period=0), Swell(height=0.85, direction=299.01, directionMin=287.27, period=12), Swell(height=0.18, direction=282.55, directionMin=278.55, period=7)]), Forecast(timestamp=Time(timestamp=1695693600, dt=datetime.datetime(2023, 9, 26, 2, 0)), weather=Weather(temperature=19, condition='NIGHT_CLEAR'), wind=Wind(speed=2.26916, direction=77.10599), surf=Surf(min=0.67515, max=1.05492), swells=[Swell(height=0, direction=0, directionMin=0, period=0), Swell(height=0, direction=0, directionMin=0, period=0), Swell(height=0, direction=0, directionMin=0, period=0), Swell(height=0, direction=0, directionMin=0, period=0), Swell(height=0.81, direction=298.67, directionMin=287.2, period=11), Swell(height=0, direction=0, directionMin=0, period=0)]), Forecast(timestamp=Time(timestamp=1695704400, dt=datetime.datetime(2023, 9, 26, 5, 0)), weather=Weather(temperature=19, condition='NIGHT_CLEAR'), wind=Wind(speed=0.21259, direction=282.88964), surf=Surf(min=0.65058, max=1.01653), swells=[Swell(height=0, direction=0, directionMin=0, period=0), Swell(height=0, direction=0, directionMin=0, period=0), Swell(height=0.09, direction=307.38, directionMin=302.045, period=18), Swell(height=0, direction=0, directionMin=0, period=0), Swell(height=0.78, direction=298.82, directionMin=287.635, period=11), Swell(height=0, direction=0, directionMin=0, period=0)]), Forecast(timestamp=Time(timestamp=1695715200, dt=datetime.datetime(2023, 9, 26, 8, 0)), weather=Weather(temperature=20, condition='CLEAR'), wind=Wind(speed=0.92878, direction=182.02193), surf=Surf(min=0.59385, max=0.92789), swells=[Swell(height=0, direction=0, directionMin=0, period=0), Swell(height=0.26, direction=295.33, directionMin=288.955, period=14), Swell(height=0.2, direction=305.13, directionMin=299.4, period=17), Swell(height=0, direction=0, directionMin=0, period=0), Swell(height=0.7, direction=299.82, directionMin=288.485, period=11), Swell(height=0.15, direction=284.39, directionMin=280.515, period=6)]), Forecast(timestamp=Time(timestamp=1695726000, dt=datetime.datetime(2023, 9, 26, 11, 0)), weather=Weather(temperature=22, condition='CLEAR'), wind=Wind(speed=6.18996, direction=265.27635), surf=Surf(min=0.58045, max=0.90695), swells=[Swell(height=0, direction=0, directionMin=0, period=0), Swell(height=0, direction=0, directionMin=0, period=0), Swell(height=0.45, direction=299.83, directionMin=292.81, period=16), Swell(height=0.28, direction=333.03, directionMin=323.005, period=5), Swell(height=0.66, direction=293.79, directionMin=285.99, period=11), Swell(height=0, direction=0, directionMin=0, period=0)]), Forecast(timestamp=Time(timestamp=1695736800, dt=datetime.datetime(2023, 9, 26, 14, 0)), weather=Weather(temperature=23, condition='CLEAR'), wind=Wind(speed=7.66112, direction=279.96821), surf=Surf(min=0.68463, max=1.06974), swells=[Swell(height=0, direction=0, directionMin=0, period=0), Swell(height=0, direction=0, directionMin=0, period=0), Swell(height=0.68, direction=300.37, directionMin=293.485, period=15), Swell(height=0, direction=0, directionMin=0, period=0), Swell(height=0.68, direction=300.88, directionMin=290.215, period=10), Swell(height=0.15, direction=286.47, directionMin=281.93, period=6)]), Forecast(timestamp=Time(timestamp=1695747600, dt=datetime.datetime(2023, 9, 26, 17, 0)), weather=Weather(temperature=24, condition='CLEAR'), wind=Wind(speed=9.88804, direction=317.98725), surf=Surf(min=0.94004, max=1.46881), swells=[Swell(height=0, direction=0, directionMin=0, period=0), Swell(height=0, direction=0, directionMin=0, period=0), Swell(height=1.03, direction=300.78, directionMin=293.84999999999997, period=14), Swell(height=0.49, direction=321.71, directionMin=309.78999999999996, period=4), Swell(height=0.37, direction=283.11, directionMin=279.315, period=10), Swell(height=0, direction=0, directionMin=0, period=0)]), Forecast(timestamp=Time(timestamp=1695758400, dt=datetime.datetime(2023, 9, 26, 20, 0)), weather=Weather(temperature=22, condition='NIGHT_CLEAR'), wind=Wind(speed=3.4595, direction=67.66442), surf=Surf(min=1.06943, max=1.67098), swells=[Swell(height=0, direction=0, directionMin=0, period=0), Swell(height=0, direction=0, directionMin=0, period=0), Swell(height=1.24, direction=298.88, directionMin=291.96999999999997, period=14), Swell(height=0.65, direction=322.59, directionMin=310, period=5), Swell(height=0, direction=0, directionMin=0, period=0), Swell(height=0, direction=0, directionMin=0, period=0)]), Forecast(timestamp=Time(timestamp=1695769200, dt=datetime.datetime(2023, 9, 26, 23, 0)), weather=Weather(temperature=20, condition='NIGHT_MOSTLY_CLEAR'), wind=Wind(speed=9.13559, direction=123.26966), surf=Surf(min=1.11898, max=1.7484), swells=[Swell(height=0, direction=0, directionMin=0, period=0), Swell(height=0, direction=0, directionMin=0, period=0), Swell(height=1.34, direction=299.27, directionMin=292.385, period=14), Swell(height=0.6, direction=324.61, directionMin=311.345, period=5), Swell(height=0, direction=0, directionMin=0, period=0), Swell(height=0, direction=0, directionMin=0, period=0)]), Forecast(timestamp=Time(timestamp=1695780000, dt=datetime.datetime(2023, 9, 27, 2, 0)), weather=Weather(temperature=20, condition='NIGHT_CLEAR'), wind=Wind(speed=2.0544, direction=137.63649), surf=Surf(min=1.11249, max=1.73827), swells=[Swell(height=0, direction=0, directionMin=0, period=0), Swell(height=0, direction=0, directionMin=0, period=0), Swell(height=1.38, direction=299.4, directionMin=292.64, period=13), Swell(height=0.55, direction=326.34, directionMin=313.265, period=5), Swell(height=0, direction=0, directionMin=0, period=0), Swell(height=0, direction=0, directionMin=0, period=0)]), Forecast(timestamp=Time(timestamp=1695790800, dt=datetime.datetime(2023, 9, 27, 5, 0)), weather=Weather(temperature=19, condition='NIGHT_CLEAR'), wind=Wind(speed=0.46359, direction=194.91328), surf=Surf(min=1.10235, max=1.72243), swells=[Swell(height=0, direction=0, directionMin=0, period=0), Swell(height=0, direction=0, directionMin=0, period=0), Swell(height=1.38, direction=299.96, directionMin=293.11499999999995, period=13), Swell(height=0.56, direction=327.4, directionMin=315.31, period=5), Swell(height=0, direction=0, directionMin=0, period=0), Swell(height=0, direction=0, directionMin=0, period=0)]), Forecast(timestamp=Time(timestamp=1695801600, dt=datetime.datetime(2023, 9, 27, 8, 0)), weather=Weather(temperature=20, condition='CLEAR'), wind=Wind(speed=4.02663, direction=307.97996), surf=Surf(min=1.06519, max=1.66436), swells=[Swell(height=0, direction=0, directionMin=0, period=0), Swell(height=0, direction=0, directionMin=0, period=0), Swell(height=1.33, direction=300.26, directionMin=293.46, period=13), Swell(height=0.54, direction=328.7, directionMin=317.155, period=5), Swell(height=0, direction=0, directionMin=0, period=0), Swell(height=0, direction=0, directionMin=0, period=0)]), Forecast(timestamp=Time(timestamp=1695812400, dt=datetime.datetime(2023, 9, 27, 11, 0)), weather=Weather(temperature=22, condition='CLEAR'), wind=Wind(speed=7.19245, direction=267.32573), surf=Surf(min=1.02401, max=1.60001), swells=[Swell(height=0, direction=0, directionMin=0, period=0), Swell(height=0, direction=0, directionMin=0, period=0), Swell(height=1.28, direction=300.97, directionMin=294.055, period=12), Swell(height=0.47, direction=331.31, directionMin=319.84, period=5), Swell(height=0, direction=0, directionMin=0, period=0), Swell(height=0, direction=0, directionMin=0, period=0)]), Forecast(timestamp=Time(timestamp=1695823200, dt=datetime.datetime(2023, 9, 27, 14, 0)), weather=Weather(temperature=24, condition='CLEAR'), wind=Wind(speed=5.75492, direction=281.687), surf=Surf(min=0.98512, max=1.53925), swells=[Swell(height=0, direction=0, directionMin=0, period=0), Swell(height=0, direction=0, directionMin=0, period=0), Swell(height=1.23, direction=301.43, directionMin=294.54, period=12), Swell(height=0.56, direction=330.3, directionMin=319.49, period=5), Swell(height=0, direction=0, directionMin=0, period=0), Swell(height=0, direction=0, directionMin=0, period=0)]), Forecast(timestamp=Time(timestamp=1695834000, dt=datetime.datetime(2023, 9, 27, 17, 0)), weather=Weather(temperature=23, condition='CLEAR'), wind=Wind(speed=0.77587, direction=321.85939), surf=Surf(min=0.95086, max=1.48572), swells=[Swell(height=0, direction=0, directionMin=0, period=0), Swell(height=0, direction=0, directionMin=0, period=0), Swell(height=1.18, direction=301.97, directionMin=295.21500000000003, period=12), Swell(height=0.98, direction=325.1, directionMin=313.76500000000004, period=6), Swell(height=0, direction=0, directionMin=0, period=0), Swell(height=0, direction=0, directionMin=0, period=0)]), Forecast(timestamp=Time(timestamp=1695844800, dt=datetime.datetime(2023, 9, 27, 20, 0)), weather=Weather(temperature=22, condition='NIGHT_CLEAR'), wind=Wind(speed=5.1028, direction=112.36161), surf=Surf(min=0.91636, max=1.43181), swells=[Swell(height=0, direction=0, directionMin=0, period=0), Swell(height=0, direction=0, directionMin=0, period=0), Swell(height=1.13, direction=302.24, directionMin=295.595, period=12), Swell(height=1.15, direction=322.54, directionMin=310.68, period=6), Swell(height=0, direction=0, directionMin=0, period=0), Swell(height=0, direction=0, directionMin=0, period=0)]), Forecast(timestamp=Time(timestamp=1695855600, dt=datetime.datetime(2023, 9, 27, 23, 0)), weather=Weather(temperature=21, condition='NIGHT_CLEAR'), wind=Wind(speed=9.00826, direction=117.98122), surf=Surf(min=0.88027, max=1.37543), swells=[Swell(height=0, direction=0, directionMin=0, period=0), Swell(height=0, direction=0, directionMin=0, period=0), Swell(height=1.13, direction=302.77, directionMin=296.005, period=12), Swell(height=1.13, direction=321.61, directionMin=309.86, period=7), Swell(height=0, direction=0, directionMin=0, period=0), Swell(height=0, direction=0, directionMin=0, period=0)])], sunriseSunsetTimes=[SunriseSunsetTime(midnight=Time(timestamp=1695596400, dt=datetime.datetime(2023, 9, 24, 23, 0)), sunrise=Time(timestamp=1695623391, dt=datetime.datetime(2023, 9, 25, 6, 29, 51)), sunset=Time(timestamp=1695666853, dt=datetime.datetime(2023, 9, 25, 18, 34, 13))), SunriseSunsetTime(midnight=Time(timestamp=1695682800, dt=datetime.datetime(2023, 9, 25, 23, 0)), sunrise=Time(timestamp=1695709825, dt=datetime.datetime(2023, 9, 26, 6, 30, 25)), sunset=Time(timestamp=1695753177, dt=datetime.datetime(2023, 9, 26, 18, 32, 57))), SunriseSunsetTime(midnight=Time(timestamp=1695769200, dt=datetime.datetime(2023, 9, 26, 23, 0)), sunrise=Time(timestamp=1695796258, dt=datetime.datetime(2023, 9, 27, 6, 30, 58)), sunset=Time(timestamp=1695839500, dt=datetime.datetime(2023, 9, 27, 18, 31, 40))), SunriseSunsetTime(midnight=Time(timestamp=1695855600, dt=datetime.datetime(2023, 9, 27, 23, 0)), sunrise=Time(timestamp=1695882693, dt=datetime.datetime(2023, 9, 28, 6, 31, 33)), sunset=Time(timestamp=1695925824, dt=datetime.datetime(2023, 9, 28, 18, 30, 24)))], tides=[Tide(timestamp=Time(timestamp=1695592800, dt=datetime.datetime(2023, 9, 24, 22, 0)), type='NORMAL', height=2.78), Tide(timestamp=Time(timestamp=1695596400, dt=datetime.datetime(2023, 9, 24, 23, 0)), type='NORMAL', height=2.69), Tide(timestamp=Time(timestamp=1695600000, dt=datetime.datetime(2023, 9, 25, 0, 0)), type='NORMAL', height=2.49), Tide(timestamp=Time(timestamp=1695603600, dt=datetime.datetime(2023, 9, 25, 1, 0)), type='NORMAL', height=2.22), Tide(timestamp=Time(timestamp=1695607200, dt=datetime.datetime(2023, 9, 25, 2, 0)), type='NORMAL', height=1.95), Tide(timestamp=Time(timestamp=1695610800, dt=datetime.datetime(2023, 9, 25, 3, 0)), type='NORMAL', height=1.75), Tide(timestamp=Time(timestamp=1695614400, dt=datetime.datetime(2023, 9, 25, 4, 0)), type='NORMAL', height=1.66), Tide(timestamp=Time(timestamp=1695614677, dt=datetime.datetime(2023, 9, 25, 4, 4, 37)), type='LOW', height=1.66), Tide(timestamp=Time(timestamp=1695618000, dt=datetime.datetime(2023, 9, 25, 5, 0)), type='NORMAL', height=1.73), Tide(timestamp=Time(timestamp=1695621600, dt=datetime.datetime(2023, 9, 25, 6, 0)), type='NORMAL', height=1.96), Tide(timestamp=Time(timestamp=1695625200, dt=datetime.datetime(2023, 9, 25, 7, 0)), type='NORMAL', height=2.28), Tide(timestamp=Time(timestamp=1695628800, dt=datetime.datetime(2023, 9, 25, 8, 0)), type='NORMAL', height=2.62), Tide(timestamp=Time(timestamp=1695632400, dt=datetime.datetime(2023, 9, 25, 9, 0)), type='NORMAL', height=2.9), Tide(timestamp=Time(timestamp=1695636000, dt=datetime.datetime(2023, 9, 25, 10, 0)), type='NORMAL', height=3.04), Tide(timestamp=Time(timestamp=1695636959, dt=datetime.datetime(2023, 9, 25, 10, 15, 59)), type='HIGH', height=3.05), Tide(timestamp=Time(timestamp=1695639600, dt=datetime.datetime(2023, 9, 25, 11, 0)), type='NORMAL', height=3), Tide(timestamp=Time(timestamp=1695643200, dt=datetime.datetime(2023, 9, 25, 12, 0)), type='NORMAL', height=2.78), Tide(timestamp=Time(timestamp=1695646800, dt=datetime.datetime(2023, 9, 25, 13, 0)), type='NORMAL', height=2.43), Tide(timestamp=Time(timestamp=1695650400, dt=datetime.datetime(2023, 9, 25, 14, 0)), type='NORMAL', height=2.03), Tide(timestamp=Time(timestamp=1695654000, dt=datetime.datetime(2023, 9, 25, 15, 0)), type='NORMAL', height=1.66), Tide(timestamp=Time(timestamp=1695657600, dt=datetime.datetime(2023, 9, 25, 16, 0)), type='NORMAL', height=1.42), Tide(timestamp=Time(timestamp=1695660596, dt=datetime.datetime(2023, 9, 25, 16, 49, 56)), type='LOW', height=1.35), Tide(timestamp=Time(timestamp=1695661200, dt=datetime.datetime(2023, 9, 25, 17, 0)), type='NORMAL', height=1.36), Tide(timestamp=Time(timestamp=1695664800, dt=datetime.datetime(2023, 9, 25, 18, 0)), type='NORMAL', height=1.5), Tide(timestamp=Time(timestamp=1695668400, dt=datetime.datetime(2023, 9, 25, 19, 0)), type='NORMAL', height=1.81), Tide(timestamp=Time(timestamp=1695672000, dt=datetime.datetime(2023, 9, 25, 20, 0)), type='NORMAL', height=2.22), Tide(timestamp=Time(timestamp=1695675600, dt=datetime.datetime(2023, 9, 25, 21, 0)), type='NORMAL', height=2.63), Tide(timestamp=Time(timestamp=1695679200, dt=datetime.datetime(2023, 9, 25, 22, 0)), type='NORMAL', height=2.92), Tide(timestamp=Time(timestamp=1695682794, dt=datetime.datetime(2023, 9, 25, 22, 59, 54)), type='HIGH', height=3.03), Tide(timestamp=Time(timestamp=1695682800, dt=datetime.datetime(2023, 9, 25, 23, 0)), type='NORMAL', height=3.03), Tide(timestamp=Time(timestamp=1695686400, dt=datetime.datetime(2023, 9, 26, 0, 0)), type='NORMAL', height=2.93), Tide(timestamp=Time(timestamp=1695690000, dt=datetime.datetime(2023, 9, 26, 1, 0)), type='NORMAL', height=2.65), Tide(timestamp=Time(timestamp=1695693600, dt=datetime.datetime(2023, 9, 26, 2, 0)), type='NORMAL', height=2.26), Tide(timestamp=Time(timestamp=1695697200, dt=datetime.datetime(2023, 9, 26, 3, 0)), type='NORMAL', height=1.86), Tide(timestamp=Time(timestamp=1695700800, dt=datetime.datetime(2023, 9, 26, 4, 0)), type='NORMAL', height=1.55), Tide(timestamp=Time(timestamp=1695704400, dt=datetime.datetime(2023, 9, 26, 5, 0)), type='NORMAL', height=1.41), Tide(timestamp=Time(timestamp=1695704935, dt=datetime.datetime(2023, 9, 26, 5, 8, 55)), type='LOW', height=1.41), Tide(timestamp=Time(timestamp=1695708000, dt=datetime.datetime(2023, 9, 26, 6, 0)), type='NORMAL', height=1.49), Tide(timestamp=Time(timestamp=1695711600, dt=datetime.datetime(2023, 9, 26, 7, 0)), type='NORMAL', height=1.8), Tide(timestamp=Time(timestamp=1695715200, dt=datetime.datetime(2023, 9, 26, 8, 0)), type='NORMAL', height=2.25), Tide(timestamp=Time(timestamp=1695718800, dt=datetime.datetime(2023, 9, 26, 9, 0)), type='NORMAL', height=2.73), Tide(timestamp=Time(timestamp=1695722400, dt=datetime.datetime(2023, 9, 26, 10, 0)), type='NORMAL', height=3.13), Tide(timestamp=Time(timestamp=1695726000, dt=datetime.datetime(2023, 9, 26, 11, 0)), type='NORMAL', height=3.32), Tide(timestamp=Time(timestamp=1695726970, dt=datetime.datetime(2023, 9, 26, 11, 16, 10)), type='HIGH', height=3.33), Tide(timestamp=Time(timestamp=1695729600, dt=datetime.datetime(2023, 9, 26, 12, 0)), type='NORMAL', height=3.26), Tide(timestamp=Time(timestamp=1695733200, dt=datetime.datetime(2023, 9, 26, 13, 0)), type='NORMAL', height=2.96), Tide(timestamp=Time(timestamp=1695736800, dt=datetime.datetime(2023, 9, 26, 14, 0)), type='NORMAL', height=2.49), Tide(timestamp=Time(timestamp=1695740400, dt=datetime.datetime(2023, 9, 26, 15, 0)), type='NORMAL', height=1.94), Tide(timestamp=Time(timestamp=1695744000, dt=datetime.datetime(2023, 9, 26, 16, 0)), type='NORMAL', height=1.46), Tide(timestamp=Time(timestamp=1695747600, dt=datetime.datetime(2023, 9, 26, 17, 0)), type='NORMAL', height=1.15), Tide(timestamp=Time(timestamp=1695750239, dt=datetime.datetime(2023, 9, 26, 17, 43, 59)), type='LOW', height=1.07), Tide(timestamp=Time(timestamp=1695751200, dt=datetime.datetime(2023, 9, 26, 18, 0)), type='NORMAL', height=1.08), Tide(timestamp=Time(timestamp=1695754800, dt=datetime.datetime(2023, 9, 26, 19, 0)), type='NORMAL', height=1.3), Tide(timestamp=Time(timestamp=1695758400, dt=datetime.datetime(2023, 9, 26, 20, 0)), type='NORMAL', height=1.74), Tide(timestamp=Time(timestamp=1695762000, dt=datetime.datetime(2023, 9, 26, 21, 0)), type='NORMAL', height=2.3), Tide(timestamp=Time(timestamp=1695765600, dt=datetime.datetime(2023, 9, 26, 22, 0)), type='NORMAL', height=2.83), Tide(timestamp=Time(timestamp=1695769200, dt=datetime.datetime(2023, 9, 26, 23, 0)), type='NORMAL', height=3.19), Tide(timestamp=Time(timestamp=1695772232, dt=datetime.datetime(2023, 9, 26, 23, 50, 32)), type='HIGH', height=3.29), Tide(timestamp=Time(timestamp=1695772800, dt=datetime.datetime(2023, 9, 27, 0, 0)), type='NORMAL', height=3.29), Tide(timestamp=Time(timestamp=1695776400, dt=datetime.datetime(2023, 9, 27, 1, 0)), type='NORMAL', height=3.11), Tide(timestamp=Time(timestamp=1695780000, dt=datetime.datetime(2023, 9, 27, 2, 0)), type='NORMAL', height=2.71), Tide(timestamp=Time(timestamp=1695783600, dt=datetime.datetime(2023, 9, 27, 3, 0)), type='NORMAL', height=2.18), Tide(timestamp=Time(timestamp=1695787200, dt=datetime.datetime(2023, 9, 27, 4, 0)), type='NORMAL', height=1.66), Tide(timestamp=Time(timestamp=1695790800, dt=datetime.datetime(2023, 9, 27, 5, 0)), type='NORMAL', height=1.28), Tide(timestamp=Time(timestamp=1695794365, dt=datetime.datetime(2023, 9, 27, 5, 59, 25)), type='LOW', height=1.14), Tide(timestamp=Time(timestamp=1695794400, dt=datetime.datetime(2023, 9, 27, 6, 0)), type='NORMAL', height=1.14), Tide(timestamp=Time(timestamp=1695798000, dt=datetime.datetime(2023, 9, 27, 7, 0)), type='NORMAL', height=1.3), Tide(timestamp=Time(timestamp=1695801600, dt=datetime.datetime(2023, 9, 27, 8, 0)), type='NORMAL', height=1.73), Tide(timestamp=Time(timestamp=1695805200, dt=datetime.datetime(2023, 9, 27, 9, 0)), type='NORMAL', height=2.33), Tide(timestamp=Time(timestamp=1695808800, dt=datetime.datetime(2023, 9, 27, 10, 0)), type='NORMAL', height=2.94), Tide(timestamp=Time(timestamp=1695812400, dt=datetime.datetime(2023, 9, 27, 11, 0)), type='NORMAL', height=3.41), Tide(timestamp=Time(timestamp=1695816000, dt=datetime.datetime(2023, 9, 27, 12, 0)), type='NORMAL', height=3.6), Tide(timestamp=Time(timestamp=1695816299, dt=datetime.datetime(2023, 9, 27, 12, 4, 59)), type='HIGH', height=3.6), Tide(timestamp=Time(timestamp=1695819600, dt=datetime.datetime(2023, 9, 27, 13, 0)), type='NORMAL', height=3.47), Tide(timestamp=Time(timestamp=1695823200, dt=datetime.datetime(2023, 9, 27, 14, 0)), type='NORMAL', height=3.04), Tide(timestamp=Time(timestamp=1695826800, dt=datetime.datetime(2023, 9, 27, 15, 0)), type='NORMAL', height=2.42), Tide(timestamp=Time(timestamp=1695830400, dt=datetime.datetime(2023, 9, 27, 16, 0)), type='NORMAL', height=1.75), Tide(timestamp=Time(timestamp=1695834000, dt=datetime.datetime(2023, 9, 27, 17, 0)), type='NORMAL', height=1.19), Tide(timestamp=Time(timestamp=1695837600, dt=datetime.datetime(2023, 9, 27, 18, 0)), type='NORMAL', height=0.88), Tide(timestamp=Time(timestamp=1695839388, dt=datetime.datetime(2023, 9, 27, 18, 29, 48)), type='LOW', height=0.83), Tide(timestamp=Time(timestamp=1695841200, dt=datetime.datetime(2023, 9, 27, 19, 0)), type='NORMAL', height=0.88), Tide(timestamp=Time(timestamp=1695844800, dt=datetime.datetime(2023, 9, 27, 20, 0)), type='NORMAL', height=1.22), Tide(timestamp=Time(timestamp=1695848400, dt=datetime.datetime(2023, 9, 27, 21, 0)), type='NORMAL', height=1.81), Tide(timestamp=Time(timestamp=1695852000, dt=datetime.datetime(2023, 9, 27, 22, 0)), type='NORMAL', height=2.49), Tide(timestamp=Time(timestamp=1695855600, dt=datetime.datetime(2023, 9, 27, 23, 0)), type='NORMAL', height=3.1), Tide(timestamp=Time(timestamp=1695859200, dt=datetime.datetime(2023, 9, 28, 0, 0)), type='NORMAL', height=3.46), Tide(timestamp=Time(timestamp=1695861270, dt=datetime.datetime(2023, 9, 28, 0, 34, 30)), type='HIGH', height=3.51), Tide(timestamp=Time(timestamp=1695862800, dt=datetime.datetime(2023, 9, 28, 1, 0)), type='NORMAL', height=3.48), Tide(timestamp=Time(timestamp=1695866400, dt=datetime.datetime(2023, 9, 28, 2, 0)), type='NORMAL', height=3.19)], tideLocation=TideLocation(name='Agadir', min=0.15, max=4.19, lon=-9.6167, lat=30.4167, mean=0))"
      ]
     },
     "execution_count": 3,
     "metadata": {},
     "output_type": "execute_result"
    }
   ],
   "source": [
    "spotforecast = pysurfline.get_spot_forecasts(spotId)\n",
    "spotforecast"
   ]
  },
  {
   "cell_type": "markdown",
   "metadata": {},
   "source": [
    "## SpotForecast\n",
    "\n",
    "The class `SpotForecast` is an object optimized to store Surfline API Forecast data.\n",
    "\n",
    "At the base of its structure there are the `Surf`, `Wind`, `Weather`, `Swell` classes. These objects togheter form an hourly `Forecast` as per the following scheme:\n",
    "\n",
    "```\n",
    "class Forecast:\n",
    "    timestamp: Time\n",
    "    weather: Weather\n",
    "    wind: Wind\n",
    "    surf: Surf\n",
    "    swells: List[Swell]\n",
    "```\n",
    "\n",
    "Along with a list of `SunriseSunsetTime` and `Tide` ovjects for daylight timings and tides, and `TideLocation` object for general tide information, the `SpotForecast`  object has the following structure:\n",
    "\n",
    "```\n",
    "class SpotForecast:\n",
    "    name: str\n",
    "    spotId: int\n",
    "    forecasts: List[Forecast]\n",
    "    sunriseSunsetTimes: List[SunriseSunsetTime]\n",
    "    tides: List[Tide]\n",
    "    tideLocation: TideLocation\n",
    "```\n"
   ]
  },
  {
   "cell_type": "code",
   "execution_count": 10,
   "metadata": {},
   "outputs": [
    {
     "data": {
      "text/plain": [
       "SpotForecasts(spotId='5842041f4e65fad6a7708cfd', name='Anchor Point', forecasts=[Forecast(timestamp=Time(timestamp=1695596400, dt=datetime.datetime(2023, 9, 24, 23, 0)), weather=Weather(temperature=20, condition='NIGHT_CLEAR'), wind=Wind(speed=7.05638, direction=123.95191), surf=Surf(min=0.69661, max=1.08845), swells=[Swell(height=0.88, direction=319.34, directionMin=308.685, period=10), Swell(height=0.64, direction=286.22, directionMin=280.41, period=15), Swell(height=0.22, direction=275, directionMin=271.405, period=10), Swell(height=0, direction=0, directionMin=0, period=0), Swell(height=0, direction=0, directionMin=0, period=0), Swell(height=0, direction=0, directionMin=0, period=0)]), Forecast(timestamp=Time(timestamp=1695607200, dt=datetime.datetime(2023, 9, 25, 2, 0)), weather=Weather(temperature=20, condition='NIGHT_CLEAR'), wind=Wind(speed=4.67634, direction=141.51741), surf=Surf(min=0.72732, max=1.13643), swells=[Swell(height=0.79, direction=322.07, directionMin=312.03, period=9), Swell(height=0.68, direction=285.31, directionMin=279.61, period=14), Swell(height=0.29, direction=279.38, directionMin=275.405, period=10), Swell(height=0, direction=0, directionMin=0, period=0), Swell(height=0, direction=0, directionMin=0, period=0), Swell(height=0, direction=0, directionMin=0, period=0)]), Forecast(timestamp=Time(timestamp=1695618000, dt=datetime.datetime(2023, 9, 25, 5, 0)), weather=Weather(temperature=19, condition='NIGHT_CLEAR'), wind=Wind(speed=1.79393, direction=136.22342), surf=Surf(min=0.72257, max=1.12901), swells=[Swell(height=0.74, direction=321.36, directionMin=310.885, period=9), Swell(height=0.71, direction=285.67, directionMin=279.725, period=13), Swell(height=0.25, direction=276.15, directionMin=272.66999999999996, period=9), Swell(height=0, direction=0, directionMin=0, period=0), Swell(height=0, direction=0, directionMin=0, period=0), Swell(height=0, direction=0, directionMin=0, period=0)]), Forecast(timestamp=Time(timestamp=1695628800, dt=datetime.datetime(2023, 9, 25, 8, 0)), weather=Weather(temperature=20, condition='CLEAR'), wind=Wind(speed=0.98865, direction=164.88908), surf=Surf(min=0.88315, max=1.37992), swells=[Swell(height=0, direction=0, directionMin=0, period=0), Swell(height=0, direction=0, directionMin=0, period=0), Swell(height=0.27, direction=277.28, directionMin=273.54999999999995, period=9), Swell(height=0, direction=0, directionMin=0, period=0), Swell(height=1.01, direction=301.02, directionMin=288.935, period=13), Swell(height=0, direction=0, directionMin=0, period=0)]), Forecast(timestamp=Time(timestamp=1695639600, dt=datetime.datetime(2023, 9, 25, 11, 0)), weather=Weather(temperature=21, condition='CLEAR'), wind=Wind(speed=4.90004, direction=242.40149), surf=Surf(min=0.84304, max=1.31725), swells=[Swell(height=0, direction=0, directionMin=0, period=0), Swell(height=0, direction=0, directionMin=0, period=0), Swell(height=0, direction=0, directionMin=0, period=0), Swell(height=0, direction=0, directionMin=0, period=0), Swell(height=0.96, direction=300.27, directionMin=288.135, period=13), Swell(height=0.3, direction=283.53, directionMin=278.53, period=9)]), Forecast(timestamp=Time(timestamp=1695650400, dt=datetime.datetime(2023, 9, 25, 14, 0)), weather=Weather(temperature=21, condition='CLEAR'), wind=Wind(speed=6.56063, direction=282.74234), surf=Surf(min=0.77174, max=1.20585), swells=[Swell(height=0, direction=0, directionMin=0, period=0), Swell(height=0, direction=0, directionMin=0, period=0), Swell(height=0, direction=0, directionMin=0, period=0), Swell(height=0, direction=0, directionMin=0, period=0), Swell(height=0.9, direction=300.49, directionMin=288.445, period=12), Swell(height=0.32, direction=283.04, directionMin=277.91, period=9)]), Forecast(timestamp=Time(timestamp=1695661200, dt=datetime.datetime(2023, 9, 25, 17, 0)), weather=Weather(temperature=22, condition='CLEAR'), wind=Wind(speed=8.58942, direction=291.89735), surf=Surf(min=0.69154, max=1.08054), swells=[Swell(height=0.47, direction=326.59, directionMin=316.38, period=8), Swell(height=0.74, direction=289.13, directionMin=280.99, period=12), Swell(height=0, direction=0, directionMin=0, period=0), Swell(height=0, direction=0, directionMin=0, period=0), Swell(height=0, direction=0, directionMin=0, period=0), Swell(height=0.32, direction=285.43, directionMin=279.835, period=9)]), Forecast(timestamp=Time(timestamp=1695672000, dt=datetime.datetime(2023, 9, 25, 20, 0)), weather=Weather(temperature=21, condition='NIGHT_CLEAR'), wind=Wind(speed=3.92145, direction=322.26491), surf=Surf(min=0.77036, max=1.20368), swells=[Swell(height=0, direction=0, directionMin=0, period=0), Swell(height=0, direction=0, directionMin=0, period=0), Swell(height=0, direction=0, directionMin=0, period=0), Swell(height=0, direction=0, directionMin=0, period=0), Swell(height=0.91, direction=298.02, directionMin=286.34999999999997, period=12), Swell(height=0, direction=0, directionMin=0, period=0)]), Forecast(timestamp=Time(timestamp=1695682800, dt=datetime.datetime(2023, 9, 25, 23, 0)), weather=Weather(temperature=20, condition='NIGHT_CLEAR'), wind=Wind(speed=1.57852, direction=70.86981), surf=Surf(min=0.72037, max=1.12558), swells=[Swell(height=0, direction=0, directionMin=0, period=0), Swell(height=0, direction=0, directionMin=0, period=0), Swell(height=0, direction=0, directionMin=0, period=0), Swell(height=0, direction=0, directionMin=0, period=0), Swell(height=0.85, direction=299.01, directionMin=287.27, period=12), Swell(height=0.18, direction=282.55, directionMin=278.55, period=7)]), Forecast(timestamp=Time(timestamp=1695693600, dt=datetime.datetime(2023, 9, 26, 2, 0)), weather=Weather(temperature=19, condition='NIGHT_CLEAR'), wind=Wind(speed=2.26916, direction=77.10599), surf=Surf(min=0.67515, max=1.05492), swells=[Swell(height=0, direction=0, directionMin=0, period=0), Swell(height=0, direction=0, directionMin=0, period=0), Swell(height=0, direction=0, directionMin=0, period=0), Swell(height=0, direction=0, directionMin=0, period=0), Swell(height=0.81, direction=298.67, directionMin=287.2, period=11), Swell(height=0, direction=0, directionMin=0, period=0)]), Forecast(timestamp=Time(timestamp=1695704400, dt=datetime.datetime(2023, 9, 26, 5, 0)), weather=Weather(temperature=19, condition='NIGHT_CLEAR'), wind=Wind(speed=0.21259, direction=282.88964), surf=Surf(min=0.65058, max=1.01653), swells=[Swell(height=0, direction=0, directionMin=0, period=0), Swell(height=0, direction=0, directionMin=0, period=0), Swell(height=0.09, direction=307.38, directionMin=302.045, period=18), Swell(height=0, direction=0, directionMin=0, period=0), Swell(height=0.78, direction=298.82, directionMin=287.635, period=11), Swell(height=0, direction=0, directionMin=0, period=0)]), Forecast(timestamp=Time(timestamp=1695715200, dt=datetime.datetime(2023, 9, 26, 8, 0)), weather=Weather(temperature=20, condition='CLEAR'), wind=Wind(speed=0.92878, direction=182.02193), surf=Surf(min=0.59385, max=0.92789), swells=[Swell(height=0, direction=0, directionMin=0, period=0), Swell(height=0.26, direction=295.33, directionMin=288.955, period=14), Swell(height=0.2, direction=305.13, directionMin=299.4, period=17), Swell(height=0, direction=0, directionMin=0, period=0), Swell(height=0.7, direction=299.82, directionMin=288.485, period=11), Swell(height=0.15, direction=284.39, directionMin=280.515, period=6)]), Forecast(timestamp=Time(timestamp=1695726000, dt=datetime.datetime(2023, 9, 26, 11, 0)), weather=Weather(temperature=22, condition='CLEAR'), wind=Wind(speed=6.18996, direction=265.27635), surf=Surf(min=0.58045, max=0.90695), swells=[Swell(height=0, direction=0, directionMin=0, period=0), Swell(height=0, direction=0, directionMin=0, period=0), Swell(height=0.45, direction=299.83, directionMin=292.81, period=16), Swell(height=0.28, direction=333.03, directionMin=323.005, period=5), Swell(height=0.66, direction=293.79, directionMin=285.99, period=11), Swell(height=0, direction=0, directionMin=0, period=0)]), Forecast(timestamp=Time(timestamp=1695736800, dt=datetime.datetime(2023, 9, 26, 14, 0)), weather=Weather(temperature=23, condition='CLEAR'), wind=Wind(speed=7.66112, direction=279.96821), surf=Surf(min=0.68463, max=1.06974), swells=[Swell(height=0, direction=0, directionMin=0, period=0), Swell(height=0, direction=0, directionMin=0, period=0), Swell(height=0.68, direction=300.37, directionMin=293.485, period=15), Swell(height=0, direction=0, directionMin=0, period=0), Swell(height=0.68, direction=300.88, directionMin=290.215, period=10), Swell(height=0.15, direction=286.47, directionMin=281.93, period=6)]), Forecast(timestamp=Time(timestamp=1695747600, dt=datetime.datetime(2023, 9, 26, 17, 0)), weather=Weather(temperature=24, condition='CLEAR'), wind=Wind(speed=9.88804, direction=317.98725), surf=Surf(min=0.94004, max=1.46881), swells=[Swell(height=0, direction=0, directionMin=0, period=0), Swell(height=0, direction=0, directionMin=0, period=0), Swell(height=1.03, direction=300.78, directionMin=293.84999999999997, period=14), Swell(height=0.49, direction=321.71, directionMin=309.78999999999996, period=4), Swell(height=0.37, direction=283.11, directionMin=279.315, period=10), Swell(height=0, direction=0, directionMin=0, period=0)]), Forecast(timestamp=Time(timestamp=1695758400, dt=datetime.datetime(2023, 9, 26, 20, 0)), weather=Weather(temperature=22, condition='NIGHT_CLEAR'), wind=Wind(speed=3.4595, direction=67.66442), surf=Surf(min=1.06943, max=1.67098), swells=[Swell(height=0, direction=0, directionMin=0, period=0), Swell(height=0, direction=0, directionMin=0, period=0), Swell(height=1.24, direction=298.88, directionMin=291.96999999999997, period=14), Swell(height=0.65, direction=322.59, directionMin=310, period=5), Swell(height=0, direction=0, directionMin=0, period=0), Swell(height=0, direction=0, directionMin=0, period=0)]), Forecast(timestamp=Time(timestamp=1695769200, dt=datetime.datetime(2023, 9, 26, 23, 0)), weather=Weather(temperature=20, condition='NIGHT_MOSTLY_CLEAR'), wind=Wind(speed=9.13559, direction=123.26966), surf=Surf(min=1.11898, max=1.7484), swells=[Swell(height=0, direction=0, directionMin=0, period=0), Swell(height=0, direction=0, directionMin=0, period=0), Swell(height=1.34, direction=299.27, directionMin=292.385, period=14), Swell(height=0.6, direction=324.61, directionMin=311.345, period=5), Swell(height=0, direction=0, directionMin=0, period=0), Swell(height=0, direction=0, directionMin=0, period=0)]), Forecast(timestamp=Time(timestamp=1695780000, dt=datetime.datetime(2023, 9, 27, 2, 0)), weather=Weather(temperature=20, condition='NIGHT_CLEAR'), wind=Wind(speed=2.0544, direction=137.63649), surf=Surf(min=1.11249, max=1.73827), swells=[Swell(height=0, direction=0, directionMin=0, period=0), Swell(height=0, direction=0, directionMin=0, period=0), Swell(height=1.38, direction=299.4, directionMin=292.64, period=13), Swell(height=0.55, direction=326.34, directionMin=313.265, period=5), Swell(height=0, direction=0, directionMin=0, period=0), Swell(height=0, direction=0, directionMin=0, period=0)]), Forecast(timestamp=Time(timestamp=1695790800, dt=datetime.datetime(2023, 9, 27, 5, 0)), weather=Weather(temperature=19, condition='NIGHT_CLEAR'), wind=Wind(speed=0.46359, direction=194.91328), surf=Surf(min=1.10235, max=1.72243), swells=[Swell(height=0, direction=0, directionMin=0, period=0), Swell(height=0, direction=0, directionMin=0, period=0), Swell(height=1.38, direction=299.96, directionMin=293.11499999999995, period=13), Swell(height=0.56, direction=327.4, directionMin=315.31, period=5), Swell(height=0, direction=0, directionMin=0, period=0), Swell(height=0, direction=0, directionMin=0, period=0)]), Forecast(timestamp=Time(timestamp=1695801600, dt=datetime.datetime(2023, 9, 27, 8, 0)), weather=Weather(temperature=20, condition='CLEAR'), wind=Wind(speed=4.02663, direction=307.97996), surf=Surf(min=1.06519, max=1.66436), swells=[Swell(height=0, direction=0, directionMin=0, period=0), Swell(height=0, direction=0, directionMin=0, period=0), Swell(height=1.33, direction=300.26, directionMin=293.46, period=13), Swell(height=0.54, direction=328.7, directionMin=317.155, period=5), Swell(height=0, direction=0, directionMin=0, period=0), Swell(height=0, direction=0, directionMin=0, period=0)]), Forecast(timestamp=Time(timestamp=1695812400, dt=datetime.datetime(2023, 9, 27, 11, 0)), weather=Weather(temperature=22, condition='CLEAR'), wind=Wind(speed=7.19245, direction=267.32573), surf=Surf(min=1.02401, max=1.60001), swells=[Swell(height=0, direction=0, directionMin=0, period=0), Swell(height=0, direction=0, directionMin=0, period=0), Swell(height=1.28, direction=300.97, directionMin=294.055, period=12), Swell(height=0.47, direction=331.31, directionMin=319.84, period=5), Swell(height=0, direction=0, directionMin=0, period=0), Swell(height=0, direction=0, directionMin=0, period=0)]), Forecast(timestamp=Time(timestamp=1695823200, dt=datetime.datetime(2023, 9, 27, 14, 0)), weather=Weather(temperature=24, condition='CLEAR'), wind=Wind(speed=5.75492, direction=281.687), surf=Surf(min=0.98512, max=1.53925), swells=[Swell(height=0, direction=0, directionMin=0, period=0), Swell(height=0, direction=0, directionMin=0, period=0), Swell(height=1.23, direction=301.43, directionMin=294.54, period=12), Swell(height=0.56, direction=330.3, directionMin=319.49, period=5), Swell(height=0, direction=0, directionMin=0, period=0), Swell(height=0, direction=0, directionMin=0, period=0)]), Forecast(timestamp=Time(timestamp=1695834000, dt=datetime.datetime(2023, 9, 27, 17, 0)), weather=Weather(temperature=23, condition='CLEAR'), wind=Wind(speed=0.77587, direction=321.85939), surf=Surf(min=0.95086, max=1.48572), swells=[Swell(height=0, direction=0, directionMin=0, period=0), Swell(height=0, direction=0, directionMin=0, period=0), Swell(height=1.18, direction=301.97, directionMin=295.21500000000003, period=12), Swell(height=0.98, direction=325.1, directionMin=313.76500000000004, period=6), Swell(height=0, direction=0, directionMin=0, period=0), Swell(height=0, direction=0, directionMin=0, period=0)]), Forecast(timestamp=Time(timestamp=1695844800, dt=datetime.datetime(2023, 9, 27, 20, 0)), weather=Weather(temperature=22, condition='NIGHT_CLEAR'), wind=Wind(speed=5.1028, direction=112.36161), surf=Surf(min=0.91636, max=1.43181), swells=[Swell(height=0, direction=0, directionMin=0, period=0), Swell(height=0, direction=0, directionMin=0, period=0), Swell(height=1.13, direction=302.24, directionMin=295.595, period=12), Swell(height=1.15, direction=322.54, directionMin=310.68, period=6), Swell(height=0, direction=0, directionMin=0, period=0), Swell(height=0, direction=0, directionMin=0, period=0)]), Forecast(timestamp=Time(timestamp=1695855600, dt=datetime.datetime(2023, 9, 27, 23, 0)), weather=Weather(temperature=21, condition='NIGHT_CLEAR'), wind=Wind(speed=9.00826, direction=117.98122), surf=Surf(min=0.88027, max=1.37543), swells=[Swell(height=0, direction=0, directionMin=0, period=0), Swell(height=0, direction=0, directionMin=0, period=0), Swell(height=1.13, direction=302.77, directionMin=296.005, period=12), Swell(height=1.13, direction=321.61, directionMin=309.86, period=7), Swell(height=0, direction=0, directionMin=0, period=0), Swell(height=0, direction=0, directionMin=0, period=0)])], sunriseSunsetTimes=[SunriseSunsetTime(midnight=Time(timestamp=1695596400, dt=datetime.datetime(2023, 9, 24, 23, 0)), sunrise=Time(timestamp=1695623391, dt=datetime.datetime(2023, 9, 25, 6, 29, 51)), sunset=Time(timestamp=1695666853, dt=datetime.datetime(2023, 9, 25, 18, 34, 13))), SunriseSunsetTime(midnight=Time(timestamp=1695682800, dt=datetime.datetime(2023, 9, 25, 23, 0)), sunrise=Time(timestamp=1695709825, dt=datetime.datetime(2023, 9, 26, 6, 30, 25)), sunset=Time(timestamp=1695753177, dt=datetime.datetime(2023, 9, 26, 18, 32, 57))), SunriseSunsetTime(midnight=Time(timestamp=1695769200, dt=datetime.datetime(2023, 9, 26, 23, 0)), sunrise=Time(timestamp=1695796258, dt=datetime.datetime(2023, 9, 27, 6, 30, 58)), sunset=Time(timestamp=1695839500, dt=datetime.datetime(2023, 9, 27, 18, 31, 40))), SunriseSunsetTime(midnight=Time(timestamp=1695855600, dt=datetime.datetime(2023, 9, 27, 23, 0)), sunrise=Time(timestamp=1695882693, dt=datetime.datetime(2023, 9, 28, 6, 31, 33)), sunset=Time(timestamp=1695925824, dt=datetime.datetime(2023, 9, 28, 18, 30, 24)))], tides=[Tide(timestamp=Time(timestamp=1695592800, dt=datetime.datetime(2023, 9, 24, 22, 0)), type='NORMAL', height=2.78), Tide(timestamp=Time(timestamp=1695596400, dt=datetime.datetime(2023, 9, 24, 23, 0)), type='NORMAL', height=2.69), Tide(timestamp=Time(timestamp=1695600000, dt=datetime.datetime(2023, 9, 25, 0, 0)), type='NORMAL', height=2.49), Tide(timestamp=Time(timestamp=1695603600, dt=datetime.datetime(2023, 9, 25, 1, 0)), type='NORMAL', height=2.22), Tide(timestamp=Time(timestamp=1695607200, dt=datetime.datetime(2023, 9, 25, 2, 0)), type='NORMAL', height=1.95), Tide(timestamp=Time(timestamp=1695610800, dt=datetime.datetime(2023, 9, 25, 3, 0)), type='NORMAL', height=1.75), Tide(timestamp=Time(timestamp=1695614400, dt=datetime.datetime(2023, 9, 25, 4, 0)), type='NORMAL', height=1.66), Tide(timestamp=Time(timestamp=1695614677, dt=datetime.datetime(2023, 9, 25, 4, 4, 37)), type='LOW', height=1.66), Tide(timestamp=Time(timestamp=1695618000, dt=datetime.datetime(2023, 9, 25, 5, 0)), type='NORMAL', height=1.73), Tide(timestamp=Time(timestamp=1695621600, dt=datetime.datetime(2023, 9, 25, 6, 0)), type='NORMAL', height=1.96), Tide(timestamp=Time(timestamp=1695625200, dt=datetime.datetime(2023, 9, 25, 7, 0)), type='NORMAL', height=2.28), Tide(timestamp=Time(timestamp=1695628800, dt=datetime.datetime(2023, 9, 25, 8, 0)), type='NORMAL', height=2.62), Tide(timestamp=Time(timestamp=1695632400, dt=datetime.datetime(2023, 9, 25, 9, 0)), type='NORMAL', height=2.9), Tide(timestamp=Time(timestamp=1695636000, dt=datetime.datetime(2023, 9, 25, 10, 0)), type='NORMAL', height=3.04), Tide(timestamp=Time(timestamp=1695636959, dt=datetime.datetime(2023, 9, 25, 10, 15, 59)), type='HIGH', height=3.05), Tide(timestamp=Time(timestamp=1695639600, dt=datetime.datetime(2023, 9, 25, 11, 0)), type='NORMAL', height=3), Tide(timestamp=Time(timestamp=1695643200, dt=datetime.datetime(2023, 9, 25, 12, 0)), type='NORMAL', height=2.78), Tide(timestamp=Time(timestamp=1695646800, dt=datetime.datetime(2023, 9, 25, 13, 0)), type='NORMAL', height=2.43), Tide(timestamp=Time(timestamp=1695650400, dt=datetime.datetime(2023, 9, 25, 14, 0)), type='NORMAL', height=2.03), Tide(timestamp=Time(timestamp=1695654000, dt=datetime.datetime(2023, 9, 25, 15, 0)), type='NORMAL', height=1.66), Tide(timestamp=Time(timestamp=1695657600, dt=datetime.datetime(2023, 9, 25, 16, 0)), type='NORMAL', height=1.42), Tide(timestamp=Time(timestamp=1695660596, dt=datetime.datetime(2023, 9, 25, 16, 49, 56)), type='LOW', height=1.35), Tide(timestamp=Time(timestamp=1695661200, dt=datetime.datetime(2023, 9, 25, 17, 0)), type='NORMAL', height=1.36), Tide(timestamp=Time(timestamp=1695664800, dt=datetime.datetime(2023, 9, 25, 18, 0)), type='NORMAL', height=1.5), Tide(timestamp=Time(timestamp=1695668400, dt=datetime.datetime(2023, 9, 25, 19, 0)), type='NORMAL', height=1.81), Tide(timestamp=Time(timestamp=1695672000, dt=datetime.datetime(2023, 9, 25, 20, 0)), type='NORMAL', height=2.22), Tide(timestamp=Time(timestamp=1695675600, dt=datetime.datetime(2023, 9, 25, 21, 0)), type='NORMAL', height=2.63), Tide(timestamp=Time(timestamp=1695679200, dt=datetime.datetime(2023, 9, 25, 22, 0)), type='NORMAL', height=2.92), Tide(timestamp=Time(timestamp=1695682794, dt=datetime.datetime(2023, 9, 25, 22, 59, 54)), type='HIGH', height=3.03), Tide(timestamp=Time(timestamp=1695682800, dt=datetime.datetime(2023, 9, 25, 23, 0)), type='NORMAL', height=3.03), Tide(timestamp=Time(timestamp=1695686400, dt=datetime.datetime(2023, 9, 26, 0, 0)), type='NORMAL', height=2.93), Tide(timestamp=Time(timestamp=1695690000, dt=datetime.datetime(2023, 9, 26, 1, 0)), type='NORMAL', height=2.65), Tide(timestamp=Time(timestamp=1695693600, dt=datetime.datetime(2023, 9, 26, 2, 0)), type='NORMAL', height=2.26), Tide(timestamp=Time(timestamp=1695697200, dt=datetime.datetime(2023, 9, 26, 3, 0)), type='NORMAL', height=1.86), Tide(timestamp=Time(timestamp=1695700800, dt=datetime.datetime(2023, 9, 26, 4, 0)), type='NORMAL', height=1.55), Tide(timestamp=Time(timestamp=1695704400, dt=datetime.datetime(2023, 9, 26, 5, 0)), type='NORMAL', height=1.41), Tide(timestamp=Time(timestamp=1695704935, dt=datetime.datetime(2023, 9, 26, 5, 8, 55)), type='LOW', height=1.41), Tide(timestamp=Time(timestamp=1695708000, dt=datetime.datetime(2023, 9, 26, 6, 0)), type='NORMAL', height=1.49), Tide(timestamp=Time(timestamp=1695711600, dt=datetime.datetime(2023, 9, 26, 7, 0)), type='NORMAL', height=1.8), Tide(timestamp=Time(timestamp=1695715200, dt=datetime.datetime(2023, 9, 26, 8, 0)), type='NORMAL', height=2.25), Tide(timestamp=Time(timestamp=1695718800, dt=datetime.datetime(2023, 9, 26, 9, 0)), type='NORMAL', height=2.73), Tide(timestamp=Time(timestamp=1695722400, dt=datetime.datetime(2023, 9, 26, 10, 0)), type='NORMAL', height=3.13), Tide(timestamp=Time(timestamp=1695726000, dt=datetime.datetime(2023, 9, 26, 11, 0)), type='NORMAL', height=3.32), Tide(timestamp=Time(timestamp=1695726970, dt=datetime.datetime(2023, 9, 26, 11, 16, 10)), type='HIGH', height=3.33), Tide(timestamp=Time(timestamp=1695729600, dt=datetime.datetime(2023, 9, 26, 12, 0)), type='NORMAL', height=3.26), Tide(timestamp=Time(timestamp=1695733200, dt=datetime.datetime(2023, 9, 26, 13, 0)), type='NORMAL', height=2.96), Tide(timestamp=Time(timestamp=1695736800, dt=datetime.datetime(2023, 9, 26, 14, 0)), type='NORMAL', height=2.49), Tide(timestamp=Time(timestamp=1695740400, dt=datetime.datetime(2023, 9, 26, 15, 0)), type='NORMAL', height=1.94), Tide(timestamp=Time(timestamp=1695744000, dt=datetime.datetime(2023, 9, 26, 16, 0)), type='NORMAL', height=1.46), Tide(timestamp=Time(timestamp=1695747600, dt=datetime.datetime(2023, 9, 26, 17, 0)), type='NORMAL', height=1.15), Tide(timestamp=Time(timestamp=1695750239, dt=datetime.datetime(2023, 9, 26, 17, 43, 59)), type='LOW', height=1.07), Tide(timestamp=Time(timestamp=1695751200, dt=datetime.datetime(2023, 9, 26, 18, 0)), type='NORMAL', height=1.08), Tide(timestamp=Time(timestamp=1695754800, dt=datetime.datetime(2023, 9, 26, 19, 0)), type='NORMAL', height=1.3), Tide(timestamp=Time(timestamp=1695758400, dt=datetime.datetime(2023, 9, 26, 20, 0)), type='NORMAL', height=1.74), Tide(timestamp=Time(timestamp=1695762000, dt=datetime.datetime(2023, 9, 26, 21, 0)), type='NORMAL', height=2.3), Tide(timestamp=Time(timestamp=1695765600, dt=datetime.datetime(2023, 9, 26, 22, 0)), type='NORMAL', height=2.83), Tide(timestamp=Time(timestamp=1695769200, dt=datetime.datetime(2023, 9, 26, 23, 0)), type='NORMAL', height=3.19), Tide(timestamp=Time(timestamp=1695772232, dt=datetime.datetime(2023, 9, 26, 23, 50, 32)), type='HIGH', height=3.29), Tide(timestamp=Time(timestamp=1695772800, dt=datetime.datetime(2023, 9, 27, 0, 0)), type='NORMAL', height=3.29), Tide(timestamp=Time(timestamp=1695776400, dt=datetime.datetime(2023, 9, 27, 1, 0)), type='NORMAL', height=3.11), Tide(timestamp=Time(timestamp=1695780000, dt=datetime.datetime(2023, 9, 27, 2, 0)), type='NORMAL', height=2.71), Tide(timestamp=Time(timestamp=1695783600, dt=datetime.datetime(2023, 9, 27, 3, 0)), type='NORMAL', height=2.18), Tide(timestamp=Time(timestamp=1695787200, dt=datetime.datetime(2023, 9, 27, 4, 0)), type='NORMAL', height=1.66), Tide(timestamp=Time(timestamp=1695790800, dt=datetime.datetime(2023, 9, 27, 5, 0)), type='NORMAL', height=1.28), Tide(timestamp=Time(timestamp=1695794365, dt=datetime.datetime(2023, 9, 27, 5, 59, 25)), type='LOW', height=1.14), Tide(timestamp=Time(timestamp=1695794400, dt=datetime.datetime(2023, 9, 27, 6, 0)), type='NORMAL', height=1.14), Tide(timestamp=Time(timestamp=1695798000, dt=datetime.datetime(2023, 9, 27, 7, 0)), type='NORMAL', height=1.3), Tide(timestamp=Time(timestamp=1695801600, dt=datetime.datetime(2023, 9, 27, 8, 0)), type='NORMAL', height=1.73), Tide(timestamp=Time(timestamp=1695805200, dt=datetime.datetime(2023, 9, 27, 9, 0)), type='NORMAL', height=2.33), Tide(timestamp=Time(timestamp=1695808800, dt=datetime.datetime(2023, 9, 27, 10, 0)), type='NORMAL', height=2.94), Tide(timestamp=Time(timestamp=1695812400, dt=datetime.datetime(2023, 9, 27, 11, 0)), type='NORMAL', height=3.41), Tide(timestamp=Time(timestamp=1695816000, dt=datetime.datetime(2023, 9, 27, 12, 0)), type='NORMAL', height=3.6), Tide(timestamp=Time(timestamp=1695816299, dt=datetime.datetime(2023, 9, 27, 12, 4, 59)), type='HIGH', height=3.6), Tide(timestamp=Time(timestamp=1695819600, dt=datetime.datetime(2023, 9, 27, 13, 0)), type='NORMAL', height=3.47), Tide(timestamp=Time(timestamp=1695823200, dt=datetime.datetime(2023, 9, 27, 14, 0)), type='NORMAL', height=3.04), Tide(timestamp=Time(timestamp=1695826800, dt=datetime.datetime(2023, 9, 27, 15, 0)), type='NORMAL', height=2.42), Tide(timestamp=Time(timestamp=1695830400, dt=datetime.datetime(2023, 9, 27, 16, 0)), type='NORMAL', height=1.75), Tide(timestamp=Time(timestamp=1695834000, dt=datetime.datetime(2023, 9, 27, 17, 0)), type='NORMAL', height=1.19), Tide(timestamp=Time(timestamp=1695837600, dt=datetime.datetime(2023, 9, 27, 18, 0)), type='NORMAL', height=0.88), Tide(timestamp=Time(timestamp=1695839388, dt=datetime.datetime(2023, 9, 27, 18, 29, 48)), type='LOW', height=0.83), Tide(timestamp=Time(timestamp=1695841200, dt=datetime.datetime(2023, 9, 27, 19, 0)), type='NORMAL', height=0.88), Tide(timestamp=Time(timestamp=1695844800, dt=datetime.datetime(2023, 9, 27, 20, 0)), type='NORMAL', height=1.22), Tide(timestamp=Time(timestamp=1695848400, dt=datetime.datetime(2023, 9, 27, 21, 0)), type='NORMAL', height=1.81), Tide(timestamp=Time(timestamp=1695852000, dt=datetime.datetime(2023, 9, 27, 22, 0)), type='NORMAL', height=2.49), Tide(timestamp=Time(timestamp=1695855600, dt=datetime.datetime(2023, 9, 27, 23, 0)), type='NORMAL', height=3.1), Tide(timestamp=Time(timestamp=1695859200, dt=datetime.datetime(2023, 9, 28, 0, 0)), type='NORMAL', height=3.46), Tide(timestamp=Time(timestamp=1695861270, dt=datetime.datetime(2023, 9, 28, 0, 34, 30)), type='HIGH', height=3.51), Tide(timestamp=Time(timestamp=1695862800, dt=datetime.datetime(2023, 9, 28, 1, 0)), type='NORMAL', height=3.48), Tide(timestamp=Time(timestamp=1695866400, dt=datetime.datetime(2023, 9, 28, 2, 0)), type='NORMAL', height=3.19)], tideLocation=TideLocation(name='Agadir', min=0.15, max=4.19, lon=-9.6167, lat=30.4167, mean=0))"
      ]
     },
     "execution_count": 10,
     "metadata": {},
     "output_type": "execute_result"
    }
   ],
   "source": [
    "spotforecast"
   ]
  },
  {
   "cell_type": "code",
   "execution_count": 4,
   "metadata": {},
   "outputs": [
    {
     "data": {
      "text/plain": [
       "'Anchor Point'"
      ]
     },
     "execution_count": 4,
     "metadata": {},
     "output_type": "execute_result"
    }
   ],
   "source": [
    "spotforecast.name"
   ]
  },
  {
   "cell_type": "code",
   "execution_count": 5,
   "metadata": {},
   "outputs": [
    {
     "data": {
      "text/plain": [
       "[Forecast(timestamp=Time(timestamp=1695596400, dt=datetime.datetime(2023, 9, 24, 23, 0)), weather=Weather(temperature=20, condition='NIGHT_CLEAR'), wind=Wind(speed=7.05638, direction=123.95191), surf=Surf(min=0.69661, max=1.08845), swells=[Swell(height=0.88, direction=319.34, directionMin=308.685, period=10), Swell(height=0.64, direction=286.22, directionMin=280.41, period=15), Swell(height=0.22, direction=275, directionMin=271.405, period=10), Swell(height=0, direction=0, directionMin=0, period=0), Swell(height=0, direction=0, directionMin=0, period=0), Swell(height=0, direction=0, directionMin=0, period=0)]),\n",
       " Forecast(timestamp=Time(timestamp=1695607200, dt=datetime.datetime(2023, 9, 25, 2, 0)), weather=Weather(temperature=20, condition='NIGHT_CLEAR'), wind=Wind(speed=4.67634, direction=141.51741), surf=Surf(min=0.72732, max=1.13643), swells=[Swell(height=0.79, direction=322.07, directionMin=312.03, period=9), Swell(height=0.68, direction=285.31, directionMin=279.61, period=14), Swell(height=0.29, direction=279.38, directionMin=275.405, period=10), Swell(height=0, direction=0, directionMin=0, period=0), Swell(height=0, direction=0, directionMin=0, period=0), Swell(height=0, direction=0, directionMin=0, period=0)])]"
      ]
     },
     "execution_count": 5,
     "metadata": {},
     "output_type": "execute_result"
    }
   ],
   "source": [
    "spotforecast.forecasts[:2]"
   ]
  },
  {
   "cell_type": "code",
   "execution_count": 6,
   "metadata": {},
   "outputs": [
    {
     "data": {
      "text/plain": [
       "[Tide(timestamp=Time(timestamp=1695592800, dt=datetime.datetime(2023, 9, 24, 22, 0)), type='NORMAL', height=2.78),\n",
       " Tide(timestamp=Time(timestamp=1695596400, dt=datetime.datetime(2023, 9, 24, 23, 0)), type='NORMAL', height=2.69)]"
      ]
     },
     "execution_count": 6,
     "metadata": {},
     "output_type": "execute_result"
    }
   ],
   "source": [
    "spotforecast.tides[:2]"
   ]
  },
  {
   "cell_type": "markdown",
   "metadata": {},
   "source": [
    "## as pandas DataFrame\n",
    "\n",
    "The different `SpotForecast` attributes can be accessed as pandas DataFrame for easy data manipulation."
   ]
  },
  {
   "cell_type": "code",
   "execution_count": 7,
   "metadata": {},
   "outputs": [
    {
     "data": {
      "text/html": [
       "<div>\n",
       "<style scoped>\n",
       "    .dataframe tbody tr th:only-of-type {\n",
       "        vertical-align: middle;\n",
       "    }\n",
       "\n",
       "    .dataframe tbody tr th {\n",
       "        vertical-align: top;\n",
       "    }\n",
       "\n",
       "    .dataframe thead th {\n",
       "        text-align: right;\n",
       "    }\n",
       "</style>\n",
       "<table border=\"1\" class=\"dataframe\">\n",
       "  <thead>\n",
       "    <tr style=\"text-align: right;\">\n",
       "      <th></th>\n",
       "      <th>timestamp_timestamp</th>\n",
       "      <th>timestamp_dt</th>\n",
       "      <th>weather_temperature</th>\n",
       "      <th>weather_condition</th>\n",
       "      <th>wind_speed</th>\n",
       "      <th>wind_direction</th>\n",
       "      <th>surf_min</th>\n",
       "      <th>surf_max</th>\n",
       "      <th>swells_0_height</th>\n",
       "      <th>swells_0_direction</th>\n",
       "      <th>...</th>\n",
       "      <th>swells_3_directionMin</th>\n",
       "      <th>swells_3_period</th>\n",
       "      <th>swells_4_height</th>\n",
       "      <th>swells_4_direction</th>\n",
       "      <th>swells_4_directionMin</th>\n",
       "      <th>swells_4_period</th>\n",
       "      <th>swells_5_height</th>\n",
       "      <th>swells_5_direction</th>\n",
       "      <th>swells_5_directionMin</th>\n",
       "      <th>swells_5_period</th>\n",
       "    </tr>\n",
       "  </thead>\n",
       "  <tbody>\n",
       "    <tr>\n",
       "      <th>0</th>\n",
       "      <td>1695596400</td>\n",
       "      <td>2023-09-24 23:00:00</td>\n",
       "      <td>20</td>\n",
       "      <td>NIGHT_CLEAR</td>\n",
       "      <td>7.05638</td>\n",
       "      <td>123.95191</td>\n",
       "      <td>0.69661</td>\n",
       "      <td>1.08845</td>\n",
       "      <td>0.88</td>\n",
       "      <td>319.34</td>\n",
       "      <td>...</td>\n",
       "      <td>0.0</td>\n",
       "      <td>0</td>\n",
       "      <td>0.00</td>\n",
       "      <td>0.00</td>\n",
       "      <td>0.000</td>\n",
       "      <td>0</td>\n",
       "      <td>0.0</td>\n",
       "      <td>0.00</td>\n",
       "      <td>0.00</td>\n",
       "      <td>0</td>\n",
       "    </tr>\n",
       "    <tr>\n",
       "      <th>1</th>\n",
       "      <td>1695607200</td>\n",
       "      <td>2023-09-25 02:00:00</td>\n",
       "      <td>20</td>\n",
       "      <td>NIGHT_CLEAR</td>\n",
       "      <td>4.67634</td>\n",
       "      <td>141.51741</td>\n",
       "      <td>0.72732</td>\n",
       "      <td>1.13643</td>\n",
       "      <td>0.79</td>\n",
       "      <td>322.07</td>\n",
       "      <td>...</td>\n",
       "      <td>0.0</td>\n",
       "      <td>0</td>\n",
       "      <td>0.00</td>\n",
       "      <td>0.00</td>\n",
       "      <td>0.000</td>\n",
       "      <td>0</td>\n",
       "      <td>0.0</td>\n",
       "      <td>0.00</td>\n",
       "      <td>0.00</td>\n",
       "      <td>0</td>\n",
       "    </tr>\n",
       "    <tr>\n",
       "      <th>2</th>\n",
       "      <td>1695618000</td>\n",
       "      <td>2023-09-25 05:00:00</td>\n",
       "      <td>19</td>\n",
       "      <td>NIGHT_CLEAR</td>\n",
       "      <td>1.79393</td>\n",
       "      <td>136.22342</td>\n",
       "      <td>0.72257</td>\n",
       "      <td>1.12901</td>\n",
       "      <td>0.74</td>\n",
       "      <td>321.36</td>\n",
       "      <td>...</td>\n",
       "      <td>0.0</td>\n",
       "      <td>0</td>\n",
       "      <td>0.00</td>\n",
       "      <td>0.00</td>\n",
       "      <td>0.000</td>\n",
       "      <td>0</td>\n",
       "      <td>0.0</td>\n",
       "      <td>0.00</td>\n",
       "      <td>0.00</td>\n",
       "      <td>0</td>\n",
       "    </tr>\n",
       "    <tr>\n",
       "      <th>3</th>\n",
       "      <td>1695628800</td>\n",
       "      <td>2023-09-25 08:00:00</td>\n",
       "      <td>20</td>\n",
       "      <td>CLEAR</td>\n",
       "      <td>0.98865</td>\n",
       "      <td>164.88908</td>\n",
       "      <td>0.88315</td>\n",
       "      <td>1.37992</td>\n",
       "      <td>0.00</td>\n",
       "      <td>0.00</td>\n",
       "      <td>...</td>\n",
       "      <td>0.0</td>\n",
       "      <td>0</td>\n",
       "      <td>1.01</td>\n",
       "      <td>301.02</td>\n",
       "      <td>288.935</td>\n",
       "      <td>13</td>\n",
       "      <td>0.0</td>\n",
       "      <td>0.00</td>\n",
       "      <td>0.00</td>\n",
       "      <td>0</td>\n",
       "    </tr>\n",
       "    <tr>\n",
       "      <th>4</th>\n",
       "      <td>1695639600</td>\n",
       "      <td>2023-09-25 11:00:00</td>\n",
       "      <td>21</td>\n",
       "      <td>CLEAR</td>\n",
       "      <td>4.90004</td>\n",
       "      <td>242.40149</td>\n",
       "      <td>0.84304</td>\n",
       "      <td>1.31725</td>\n",
       "      <td>0.00</td>\n",
       "      <td>0.00</td>\n",
       "      <td>...</td>\n",
       "      <td>0.0</td>\n",
       "      <td>0</td>\n",
       "      <td>0.96</td>\n",
       "      <td>300.27</td>\n",
       "      <td>288.135</td>\n",
       "      <td>13</td>\n",
       "      <td>0.3</td>\n",
       "      <td>283.53</td>\n",
       "      <td>278.53</td>\n",
       "      <td>9</td>\n",
       "    </tr>\n",
       "  </tbody>\n",
       "</table>\n",
       "<p>5 rows × 32 columns</p>\n",
       "</div>"
      ],
      "text/plain": [
       "   timestamp_timestamp        timestamp_dt  weather_temperature  \\\n",
       "0           1695596400 2023-09-24 23:00:00                   20   \n",
       "1           1695607200 2023-09-25 02:00:00                   20   \n",
       "2           1695618000 2023-09-25 05:00:00                   19   \n",
       "3           1695628800 2023-09-25 08:00:00                   20   \n",
       "4           1695639600 2023-09-25 11:00:00                   21   \n",
       "\n",
       "  weather_condition  wind_speed  wind_direction  surf_min  surf_max  \\\n",
       "0       NIGHT_CLEAR     7.05638       123.95191   0.69661   1.08845   \n",
       "1       NIGHT_CLEAR     4.67634       141.51741   0.72732   1.13643   \n",
       "2       NIGHT_CLEAR     1.79393       136.22342   0.72257   1.12901   \n",
       "3             CLEAR     0.98865       164.88908   0.88315   1.37992   \n",
       "4             CLEAR     4.90004       242.40149   0.84304   1.31725   \n",
       "\n",
       "   swells_0_height  swells_0_direction  ...  swells_3_directionMin  \\\n",
       "0             0.88              319.34  ...                    0.0   \n",
       "1             0.79              322.07  ...                    0.0   \n",
       "2             0.74              321.36  ...                    0.0   \n",
       "3             0.00                0.00  ...                    0.0   \n",
       "4             0.00                0.00  ...                    0.0   \n",
       "\n",
       "   swells_3_period  swells_4_height  swells_4_direction  \\\n",
       "0                0             0.00                0.00   \n",
       "1                0             0.00                0.00   \n",
       "2                0             0.00                0.00   \n",
       "3                0             1.01              301.02   \n",
       "4                0             0.96              300.27   \n",
       "\n",
       "   swells_4_directionMin  swells_4_period  swells_5_height  \\\n",
       "0                  0.000                0              0.0   \n",
       "1                  0.000                0              0.0   \n",
       "2                  0.000                0              0.0   \n",
       "3                288.935               13              0.0   \n",
       "4                288.135               13              0.3   \n",
       "\n",
       "   swells_5_direction  swells_5_directionMin  swells_5_period  \n",
       "0                0.00                   0.00                0  \n",
       "1                0.00                   0.00                0  \n",
       "2                0.00                   0.00                0  \n",
       "3                0.00                   0.00                0  \n",
       "4              283.53                 278.53                9  \n",
       "\n",
       "[5 rows x 32 columns]"
      ]
     },
     "execution_count": 7,
     "metadata": {},
     "output_type": "execute_result"
    }
   ],
   "source": [
    "# default is forecasts\n",
    "spotforecast.get_dataframe().head()"
   ]
  },
  {
   "cell_type": "code",
   "execution_count": 8,
   "metadata": {},
   "outputs": [
    {
     "data": {
      "text/html": [
       "<div>\n",
       "<style scoped>\n",
       "    .dataframe tbody tr th:only-of-type {\n",
       "        vertical-align: middle;\n",
       "    }\n",
       "\n",
       "    .dataframe tbody tr th {\n",
       "        vertical-align: top;\n",
       "    }\n",
       "\n",
       "    .dataframe thead th {\n",
       "        text-align: right;\n",
       "    }\n",
       "</style>\n",
       "<table border=\"1\" class=\"dataframe\">\n",
       "  <thead>\n",
       "    <tr style=\"text-align: right;\">\n",
       "      <th></th>\n",
       "      <th>timestamp_timestamp</th>\n",
       "      <th>timestamp_dt</th>\n",
       "      <th>type</th>\n",
       "      <th>height</th>\n",
       "    </tr>\n",
       "  </thead>\n",
       "  <tbody>\n",
       "    <tr>\n",
       "      <th>0</th>\n",
       "      <td>1695592800</td>\n",
       "      <td>2023-09-24 22:00:00</td>\n",
       "      <td>NORMAL</td>\n",
       "      <td>2.78</td>\n",
       "    </tr>\n",
       "    <tr>\n",
       "      <th>1</th>\n",
       "      <td>1695596400</td>\n",
       "      <td>2023-09-24 23:00:00</td>\n",
       "      <td>NORMAL</td>\n",
       "      <td>2.69</td>\n",
       "    </tr>\n",
       "    <tr>\n",
       "      <th>2</th>\n",
       "      <td>1695600000</td>\n",
       "      <td>2023-09-25 00:00:00</td>\n",
       "      <td>NORMAL</td>\n",
       "      <td>2.49</td>\n",
       "    </tr>\n",
       "    <tr>\n",
       "      <th>3</th>\n",
       "      <td>1695603600</td>\n",
       "      <td>2023-09-25 01:00:00</td>\n",
       "      <td>NORMAL</td>\n",
       "      <td>2.22</td>\n",
       "    </tr>\n",
       "    <tr>\n",
       "      <th>4</th>\n",
       "      <td>1695607200</td>\n",
       "      <td>2023-09-25 02:00:00</td>\n",
       "      <td>NORMAL</td>\n",
       "      <td>1.95</td>\n",
       "    </tr>\n",
       "  </tbody>\n",
       "</table>\n",
       "</div>"
      ],
      "text/plain": [
       "   timestamp_timestamp        timestamp_dt    type  height\n",
       "0           1695592800 2023-09-24 22:00:00  NORMAL    2.78\n",
       "1           1695596400 2023-09-24 23:00:00  NORMAL    2.69\n",
       "2           1695600000 2023-09-25 00:00:00  NORMAL    2.49\n",
       "3           1695603600 2023-09-25 01:00:00  NORMAL    2.22\n",
       "4           1695607200 2023-09-25 02:00:00  NORMAL    1.95"
      ]
     },
     "execution_count": 8,
     "metadata": {},
     "output_type": "execute_result"
    }
   ],
   "source": [
    "spotforecast.get_dataframe(\"tides\").head()"
   ]
  },
  {
   "cell_type": "code",
   "execution_count": 9,
   "metadata": {},
   "outputs": [
    {
     "data": {
      "text/html": [
       "<div>\n",
       "<style scoped>\n",
       "    .dataframe tbody tr th:only-of-type {\n",
       "        vertical-align: middle;\n",
       "    }\n",
       "\n",
       "    .dataframe tbody tr th {\n",
       "        vertical-align: top;\n",
       "    }\n",
       "\n",
       "    .dataframe thead th {\n",
       "        text-align: right;\n",
       "    }\n",
       "</style>\n",
       "<table border=\"1\" class=\"dataframe\">\n",
       "  <thead>\n",
       "    <tr style=\"text-align: right;\">\n",
       "      <th></th>\n",
       "      <th>midnight_timestamp</th>\n",
       "      <th>midnight_dt</th>\n",
       "      <th>sunrise_timestamp</th>\n",
       "      <th>sunrise_dt</th>\n",
       "      <th>sunset_timestamp</th>\n",
       "      <th>sunset_dt</th>\n",
       "    </tr>\n",
       "  </thead>\n",
       "  <tbody>\n",
       "    <tr>\n",
       "      <th>0</th>\n",
       "      <td>1695596400</td>\n",
       "      <td>2023-09-24 23:00:00</td>\n",
       "      <td>1695623391</td>\n",
       "      <td>2023-09-25 06:29:51</td>\n",
       "      <td>1695666853</td>\n",
       "      <td>2023-09-25 18:34:13</td>\n",
       "    </tr>\n",
       "    <tr>\n",
       "      <th>1</th>\n",
       "      <td>1695682800</td>\n",
       "      <td>2023-09-25 23:00:00</td>\n",
       "      <td>1695709825</td>\n",
       "      <td>2023-09-26 06:30:25</td>\n",
       "      <td>1695753177</td>\n",
       "      <td>2023-09-26 18:32:57</td>\n",
       "    </tr>\n",
       "    <tr>\n",
       "      <th>2</th>\n",
       "      <td>1695769200</td>\n",
       "      <td>2023-09-26 23:00:00</td>\n",
       "      <td>1695796258</td>\n",
       "      <td>2023-09-27 06:30:58</td>\n",
       "      <td>1695839500</td>\n",
       "      <td>2023-09-27 18:31:40</td>\n",
       "    </tr>\n",
       "    <tr>\n",
       "      <th>3</th>\n",
       "      <td>1695855600</td>\n",
       "      <td>2023-09-27 23:00:00</td>\n",
       "      <td>1695882693</td>\n",
       "      <td>2023-09-28 06:31:33</td>\n",
       "      <td>1695925824</td>\n",
       "      <td>2023-09-28 18:30:24</td>\n",
       "    </tr>\n",
       "  </tbody>\n",
       "</table>\n",
       "</div>"
      ],
      "text/plain": [
       "   midnight_timestamp         midnight_dt  sunrise_timestamp  \\\n",
       "0          1695596400 2023-09-24 23:00:00         1695623391   \n",
       "1          1695682800 2023-09-25 23:00:00         1695709825   \n",
       "2          1695769200 2023-09-26 23:00:00         1695796258   \n",
       "3          1695855600 2023-09-27 23:00:00         1695882693   \n",
       "\n",
       "           sunrise_dt  sunset_timestamp           sunset_dt  \n",
       "0 2023-09-25 06:29:51        1695666853 2023-09-25 18:34:13  \n",
       "1 2023-09-26 06:30:25        1695753177 2023-09-26 18:32:57  \n",
       "2 2023-09-27 06:30:58        1695839500 2023-09-27 18:31:40  \n",
       "3 2023-09-28 06:31:33        1695925824 2023-09-28 18:30:24  "
      ]
     },
     "execution_count": 9,
     "metadata": {},
     "output_type": "execute_result"
    }
   ],
   "source": [
    "spotforecast.get_dataframe(\"sunriseSunsetTimes\")"
   ]
  }
 ],
 "metadata": {
  "kernelspec": {
   "display_name": "pysurfline",
   "language": "python",
   "name": "python3"
  },
  "language_info": {
   "codemirror_mode": {
    "name": "ipython",
    "version": 3
   },
   "file_extension": ".py",
   "mimetype": "text/x-python",
   "name": "python",
   "nbconvert_exporter": "python",
   "pygments_lexer": "ipython3",
   "version": "3.9.18"
  }
 },
 "nbformat": 4,
 "nbformat_minor": 2
}
